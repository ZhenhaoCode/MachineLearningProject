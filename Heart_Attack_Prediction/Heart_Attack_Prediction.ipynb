{
  "nbformat": 4,
  "nbformat_minor": 0,
  "metadata": {
    "colab": {
      "provenance": []
    },
    "kernelspec": {
      "name": "python3",
      "display_name": "Python 3"
    },
    "language_info": {
      "name": "python"
    }
  },
  "cells": [
    {
      "cell_type": "markdown",
      "source": [
        "## Data Source"
      ],
      "metadata": {
        "id": "8SzDx_j_Fmmy"
      }
    },
    {
      "cell_type": "markdown",
      "source": [
        "As for the first part of OSEMN methodology, a relevant dataset is needed in order to proceed into the next step. We decided to obtain our dataset directly from Kaggle. Our Heart Attack Analysis & Prediction dataset can be retrieved from here: (https://www.kaggle.com/datasets/rashikrahmanpritom/heart-attack-analysis-prediction-dataset)."
      ],
      "metadata": {
        "id": "D4EmQGYl9RQT"
      }
    },
    {
      "cell_type": "code",
      "source": [
        "import os\n",
        "import numpy as np \n",
        "import pandas as pd \n",
        "import warnings\n",
        "import seaborn as sns\n",
        "import matplotlib.pyplot as plt\n",
        "import plotly.express as px\n",
        "warnings.filterwarnings(\"ignore\")\n",
        "pd.set_option(\"display.max_rows\",None)\n",
        "from sklearn import preprocessing\n",
        "import matplotlib \n",
        "matplotlib.style.use('ggplot')\n",
        "from sklearn.preprocessing import LabelEncoder"
      ],
      "metadata": {
        "id": "YOx49KBX89AN"
      },
      "execution_count": null,
      "outputs": []
    },
    {
      "cell_type": "code",
      "source": [
        "df = pd.read_csv(\"heart.csv\")\n",
        "df.head(3)"
      ],
      "metadata": {
        "id": "bQk7EAYJ89c-",
        "colab": {
          "base_uri": "https://localhost:8080/",
          "height": 143
        },
        "outputId": "e0bdab0a-17e5-4dbc-d353-85f664697ce3"
      },
      "execution_count": null,
      "outputs": [
        {
          "output_type": "execute_result",
          "data": {
            "text/plain": [
              "   age  sex  cp  trtbps  chol  fbs  restecg  thalachh  exng  oldpeak  slp  \\\n",
              "0   63    1   3     145   233    1        0       150     0      2.3    0   \n",
              "1   37    1   2     130   250    0        1       187     0      3.5    0   \n",
              "2   41    0   1     130   204    0        0       172     0      1.4    2   \n",
              "\n",
              "   caa  thall  output  \n",
              "0    0      1       1  \n",
              "1    0      2       1  \n",
              "2    0      2       1  "
            ],
            "text/html": [
              "\n",
              "  <div id=\"df-1aa37acf-f310-4743-bb9b-81ce395132a2\">\n",
              "    <div class=\"colab-df-container\">\n",
              "      <div>\n",
              "<style scoped>\n",
              "    .dataframe tbody tr th:only-of-type {\n",
              "        vertical-align: middle;\n",
              "    }\n",
              "\n",
              "    .dataframe tbody tr th {\n",
              "        vertical-align: top;\n",
              "    }\n",
              "\n",
              "    .dataframe thead th {\n",
              "        text-align: right;\n",
              "    }\n",
              "</style>\n",
              "<table border=\"1\" class=\"dataframe\">\n",
              "  <thead>\n",
              "    <tr style=\"text-align: right;\">\n",
              "      <th></th>\n",
              "      <th>age</th>\n",
              "      <th>sex</th>\n",
              "      <th>cp</th>\n",
              "      <th>trtbps</th>\n",
              "      <th>chol</th>\n",
              "      <th>fbs</th>\n",
              "      <th>restecg</th>\n",
              "      <th>thalachh</th>\n",
              "      <th>exng</th>\n",
              "      <th>oldpeak</th>\n",
              "      <th>slp</th>\n",
              "      <th>caa</th>\n",
              "      <th>thall</th>\n",
              "      <th>output</th>\n",
              "    </tr>\n",
              "  </thead>\n",
              "  <tbody>\n",
              "    <tr>\n",
              "      <th>0</th>\n",
              "      <td>63</td>\n",
              "      <td>1</td>\n",
              "      <td>3</td>\n",
              "      <td>145</td>\n",
              "      <td>233</td>\n",
              "      <td>1</td>\n",
              "      <td>0</td>\n",
              "      <td>150</td>\n",
              "      <td>0</td>\n",
              "      <td>2.3</td>\n",
              "      <td>0</td>\n",
              "      <td>0</td>\n",
              "      <td>1</td>\n",
              "      <td>1</td>\n",
              "    </tr>\n",
              "    <tr>\n",
              "      <th>1</th>\n",
              "      <td>37</td>\n",
              "      <td>1</td>\n",
              "      <td>2</td>\n",
              "      <td>130</td>\n",
              "      <td>250</td>\n",
              "      <td>0</td>\n",
              "      <td>1</td>\n",
              "      <td>187</td>\n",
              "      <td>0</td>\n",
              "      <td>3.5</td>\n",
              "      <td>0</td>\n",
              "      <td>0</td>\n",
              "      <td>2</td>\n",
              "      <td>1</td>\n",
              "    </tr>\n",
              "    <tr>\n",
              "      <th>2</th>\n",
              "      <td>41</td>\n",
              "      <td>0</td>\n",
              "      <td>1</td>\n",
              "      <td>130</td>\n",
              "      <td>204</td>\n",
              "      <td>0</td>\n",
              "      <td>0</td>\n",
              "      <td>172</td>\n",
              "      <td>0</td>\n",
              "      <td>1.4</td>\n",
              "      <td>2</td>\n",
              "      <td>0</td>\n",
              "      <td>2</td>\n",
              "      <td>1</td>\n",
              "    </tr>\n",
              "  </tbody>\n",
              "</table>\n",
              "</div>\n",
              "      <button class=\"colab-df-convert\" onclick=\"convertToInteractive('df-1aa37acf-f310-4743-bb9b-81ce395132a2')\"\n",
              "              title=\"Convert this dataframe to an interactive table.\"\n",
              "              style=\"display:none;\">\n",
              "        \n",
              "  <svg xmlns=\"http://www.w3.org/2000/svg\" height=\"24px\"viewBox=\"0 0 24 24\"\n",
              "       width=\"24px\">\n",
              "    <path d=\"M0 0h24v24H0V0z\" fill=\"none\"/>\n",
              "    <path d=\"M18.56 5.44l.94 2.06.94-2.06 2.06-.94-2.06-.94-.94-2.06-.94 2.06-2.06.94zm-11 1L8.5 8.5l.94-2.06 2.06-.94-2.06-.94L8.5 2.5l-.94 2.06-2.06.94zm10 10l.94 2.06.94-2.06 2.06-.94-2.06-.94-.94-2.06-.94 2.06-2.06.94z\"/><path d=\"M17.41 7.96l-1.37-1.37c-.4-.4-.92-.59-1.43-.59-.52 0-1.04.2-1.43.59L10.3 9.45l-7.72 7.72c-.78.78-.78 2.05 0 2.83L4 21.41c.39.39.9.59 1.41.59.51 0 1.02-.2 1.41-.59l7.78-7.78 2.81-2.81c.8-.78.8-2.07 0-2.86zM5.41 20L4 18.59l7.72-7.72 1.47 1.35L5.41 20z\"/>\n",
              "  </svg>\n",
              "      </button>\n",
              "      \n",
              "  <style>\n",
              "    .colab-df-container {\n",
              "      display:flex;\n",
              "      flex-wrap:wrap;\n",
              "      gap: 12px;\n",
              "    }\n",
              "\n",
              "    .colab-df-convert {\n",
              "      background-color: #E8F0FE;\n",
              "      border: none;\n",
              "      border-radius: 50%;\n",
              "      cursor: pointer;\n",
              "      display: none;\n",
              "      fill: #1967D2;\n",
              "      height: 32px;\n",
              "      padding: 0 0 0 0;\n",
              "      width: 32px;\n",
              "    }\n",
              "\n",
              "    .colab-df-convert:hover {\n",
              "      background-color: #E2EBFA;\n",
              "      box-shadow: 0px 1px 2px rgba(60, 64, 67, 0.3), 0px 1px 3px 1px rgba(60, 64, 67, 0.15);\n",
              "      fill: #174EA6;\n",
              "    }\n",
              "\n",
              "    [theme=dark] .colab-df-convert {\n",
              "      background-color: #3B4455;\n",
              "      fill: #D2E3FC;\n",
              "    }\n",
              "\n",
              "    [theme=dark] .colab-df-convert:hover {\n",
              "      background-color: #434B5C;\n",
              "      box-shadow: 0px 1px 3px 1px rgba(0, 0, 0, 0.15);\n",
              "      filter: drop-shadow(0px 1px 2px rgba(0, 0, 0, 0.3));\n",
              "      fill: #FFFFFF;\n",
              "    }\n",
              "  </style>\n",
              "\n",
              "      <script>\n",
              "        const buttonEl =\n",
              "          document.querySelector('#df-1aa37acf-f310-4743-bb9b-81ce395132a2 button.colab-df-convert');\n",
              "        buttonEl.style.display =\n",
              "          google.colab.kernel.accessAllowed ? 'block' : 'none';\n",
              "\n",
              "        async function convertToInteractive(key) {\n",
              "          const element = document.querySelector('#df-1aa37acf-f310-4743-bb9b-81ce395132a2');\n",
              "          const dataTable =\n",
              "            await google.colab.kernel.invokeFunction('convertToInteractive',\n",
              "                                                     [key], {});\n",
              "          if (!dataTable) return;\n",
              "\n",
              "          const docLinkHtml = 'Like what you see? Visit the ' +\n",
              "            '<a target=\"_blank\" href=https://colab.research.google.com/notebooks/data_table.ipynb>data table notebook</a>'\n",
              "            + ' to learn more about interactive tables.';\n",
              "          element.innerHTML = '';\n",
              "          dataTable['output_type'] = 'display_data';\n",
              "          await google.colab.output.renderOutput(dataTable, element);\n",
              "          const docLink = document.createElement('div');\n",
              "          docLink.innerHTML = docLinkHtml;\n",
              "          element.appendChild(docLink);\n",
              "        }\n",
              "      </script>\n",
              "    </div>\n",
              "  </div>\n",
              "  "
            ]
          },
          "metadata": {},
          "execution_count": 2
        }
      ]
    },
    {
      "cell_type": "code",
      "source": [
        "print(\"\\nNumber of rows: %d \\nNumber of columns: %d\" % (df.shape[0], df.shape[1]))\n",
        "print(\"Column names: \", list(df.columns))"
      ],
      "metadata": {
        "colab": {
          "base_uri": "https://localhost:8080/"
        },
        "id": "ef4mQSMoRgOd",
        "outputId": "9917ba5d-5606-4e43-9b10-bf58999fd5ab"
      },
      "execution_count": null,
      "outputs": [
        {
          "output_type": "stream",
          "name": "stdout",
          "text": [
            "\n",
            "Number of rows: 303 \n",
            "Number of columns: 14\n",
            "Column names:  ['age', 'sex', 'cp', 'trtbps', 'chol', 'fbs', 'restecg', 'thalachh', 'exng', 'oldpeak', 'slp', 'caa', 'thall', 'output']\n"
          ]
        }
      ]
    },
    {
      "cell_type": "code",
      "source": [
        "\n",
        "\n",
        "df.describe().T\n",
        "\n"
      ],
      "metadata": {
        "colab": {
          "base_uri": "https://localhost:8080/",
          "height": 488
        },
        "id": "mXdm_V65_L5u",
        "outputId": "9dab44fd-8bea-46f7-ac6c-fd67bea3ec6e"
      },
      "execution_count": null,
      "outputs": [
        {
          "output_type": "execute_result",
          "data": {
            "text/plain": [
              "          count        mean        std    min    25%    50%    75%    max\n",
              "age       303.0   54.366337   9.082101   29.0   47.5   55.0   61.0   77.0\n",
              "sex       303.0    0.683168   0.466011    0.0    0.0    1.0    1.0    1.0\n",
              "cp        303.0    0.966997   1.032052    0.0    0.0    1.0    2.0    3.0\n",
              "trtbps    303.0  131.623762  17.538143   94.0  120.0  130.0  140.0  200.0\n",
              "chol      303.0  246.264026  51.830751  126.0  211.0  240.0  274.5  564.0\n",
              "fbs       303.0    0.148515   0.356198    0.0    0.0    0.0    0.0    1.0\n",
              "restecg   303.0    0.528053   0.525860    0.0    0.0    1.0    1.0    2.0\n",
              "thalachh  303.0  149.646865  22.905161   71.0  133.5  153.0  166.0  202.0\n",
              "exng      303.0    0.326733   0.469794    0.0    0.0    0.0    1.0    1.0\n",
              "oldpeak   303.0    1.039604   1.161075    0.0    0.0    0.8    1.6    6.2\n",
              "slp       303.0    1.399340   0.616226    0.0    1.0    1.0    2.0    2.0\n",
              "caa       303.0    0.729373   1.022606    0.0    0.0    0.0    1.0    4.0\n",
              "thall     303.0    2.313531   0.612277    0.0    2.0    2.0    3.0    3.0\n",
              "output    303.0    0.544554   0.498835    0.0    0.0    1.0    1.0    1.0"
            ],
            "text/html": [
              "\n",
              "  <div id=\"df-763ad17d-f9e1-4fe5-acfe-20bb6de1dd9d\">\n",
              "    <div class=\"colab-df-container\">\n",
              "      <div>\n",
              "<style scoped>\n",
              "    .dataframe tbody tr th:only-of-type {\n",
              "        vertical-align: middle;\n",
              "    }\n",
              "\n",
              "    .dataframe tbody tr th {\n",
              "        vertical-align: top;\n",
              "    }\n",
              "\n",
              "    .dataframe thead th {\n",
              "        text-align: right;\n",
              "    }\n",
              "</style>\n",
              "<table border=\"1\" class=\"dataframe\">\n",
              "  <thead>\n",
              "    <tr style=\"text-align: right;\">\n",
              "      <th></th>\n",
              "      <th>count</th>\n",
              "      <th>mean</th>\n",
              "      <th>std</th>\n",
              "      <th>min</th>\n",
              "      <th>25%</th>\n",
              "      <th>50%</th>\n",
              "      <th>75%</th>\n",
              "      <th>max</th>\n",
              "    </tr>\n",
              "  </thead>\n",
              "  <tbody>\n",
              "    <tr>\n",
              "      <th>age</th>\n",
              "      <td>303.0</td>\n",
              "      <td>54.366337</td>\n",
              "      <td>9.082101</td>\n",
              "      <td>29.0</td>\n",
              "      <td>47.5</td>\n",
              "      <td>55.0</td>\n",
              "      <td>61.0</td>\n",
              "      <td>77.0</td>\n",
              "    </tr>\n",
              "    <tr>\n",
              "      <th>sex</th>\n",
              "      <td>303.0</td>\n",
              "      <td>0.683168</td>\n",
              "      <td>0.466011</td>\n",
              "      <td>0.0</td>\n",
              "      <td>0.0</td>\n",
              "      <td>1.0</td>\n",
              "      <td>1.0</td>\n",
              "      <td>1.0</td>\n",
              "    </tr>\n",
              "    <tr>\n",
              "      <th>cp</th>\n",
              "      <td>303.0</td>\n",
              "      <td>0.966997</td>\n",
              "      <td>1.032052</td>\n",
              "      <td>0.0</td>\n",
              "      <td>0.0</td>\n",
              "      <td>1.0</td>\n",
              "      <td>2.0</td>\n",
              "      <td>3.0</td>\n",
              "    </tr>\n",
              "    <tr>\n",
              "      <th>trtbps</th>\n",
              "      <td>303.0</td>\n",
              "      <td>131.623762</td>\n",
              "      <td>17.538143</td>\n",
              "      <td>94.0</td>\n",
              "      <td>120.0</td>\n",
              "      <td>130.0</td>\n",
              "      <td>140.0</td>\n",
              "      <td>200.0</td>\n",
              "    </tr>\n",
              "    <tr>\n",
              "      <th>chol</th>\n",
              "      <td>303.0</td>\n",
              "      <td>246.264026</td>\n",
              "      <td>51.830751</td>\n",
              "      <td>126.0</td>\n",
              "      <td>211.0</td>\n",
              "      <td>240.0</td>\n",
              "      <td>274.5</td>\n",
              "      <td>564.0</td>\n",
              "    </tr>\n",
              "    <tr>\n",
              "      <th>fbs</th>\n",
              "      <td>303.0</td>\n",
              "      <td>0.148515</td>\n",
              "      <td>0.356198</td>\n",
              "      <td>0.0</td>\n",
              "      <td>0.0</td>\n",
              "      <td>0.0</td>\n",
              "      <td>0.0</td>\n",
              "      <td>1.0</td>\n",
              "    </tr>\n",
              "    <tr>\n",
              "      <th>restecg</th>\n",
              "      <td>303.0</td>\n",
              "      <td>0.528053</td>\n",
              "      <td>0.525860</td>\n",
              "      <td>0.0</td>\n",
              "      <td>0.0</td>\n",
              "      <td>1.0</td>\n",
              "      <td>1.0</td>\n",
              "      <td>2.0</td>\n",
              "    </tr>\n",
              "    <tr>\n",
              "      <th>thalachh</th>\n",
              "      <td>303.0</td>\n",
              "      <td>149.646865</td>\n",
              "      <td>22.905161</td>\n",
              "      <td>71.0</td>\n",
              "      <td>133.5</td>\n",
              "      <td>153.0</td>\n",
              "      <td>166.0</td>\n",
              "      <td>202.0</td>\n",
              "    </tr>\n",
              "    <tr>\n",
              "      <th>exng</th>\n",
              "      <td>303.0</td>\n",
              "      <td>0.326733</td>\n",
              "      <td>0.469794</td>\n",
              "      <td>0.0</td>\n",
              "      <td>0.0</td>\n",
              "      <td>0.0</td>\n",
              "      <td>1.0</td>\n",
              "      <td>1.0</td>\n",
              "    </tr>\n",
              "    <tr>\n",
              "      <th>oldpeak</th>\n",
              "      <td>303.0</td>\n",
              "      <td>1.039604</td>\n",
              "      <td>1.161075</td>\n",
              "      <td>0.0</td>\n",
              "      <td>0.0</td>\n",
              "      <td>0.8</td>\n",
              "      <td>1.6</td>\n",
              "      <td>6.2</td>\n",
              "    </tr>\n",
              "    <tr>\n",
              "      <th>slp</th>\n",
              "      <td>303.0</td>\n",
              "      <td>1.399340</td>\n",
              "      <td>0.616226</td>\n",
              "      <td>0.0</td>\n",
              "      <td>1.0</td>\n",
              "      <td>1.0</td>\n",
              "      <td>2.0</td>\n",
              "      <td>2.0</td>\n",
              "    </tr>\n",
              "    <tr>\n",
              "      <th>caa</th>\n",
              "      <td>303.0</td>\n",
              "      <td>0.729373</td>\n",
              "      <td>1.022606</td>\n",
              "      <td>0.0</td>\n",
              "      <td>0.0</td>\n",
              "      <td>0.0</td>\n",
              "      <td>1.0</td>\n",
              "      <td>4.0</td>\n",
              "    </tr>\n",
              "    <tr>\n",
              "      <th>thall</th>\n",
              "      <td>303.0</td>\n",
              "      <td>2.313531</td>\n",
              "      <td>0.612277</td>\n",
              "      <td>0.0</td>\n",
              "      <td>2.0</td>\n",
              "      <td>2.0</td>\n",
              "      <td>3.0</td>\n",
              "      <td>3.0</td>\n",
              "    </tr>\n",
              "    <tr>\n",
              "      <th>output</th>\n",
              "      <td>303.0</td>\n",
              "      <td>0.544554</td>\n",
              "      <td>0.498835</td>\n",
              "      <td>0.0</td>\n",
              "      <td>0.0</td>\n",
              "      <td>1.0</td>\n",
              "      <td>1.0</td>\n",
              "      <td>1.0</td>\n",
              "    </tr>\n",
              "  </tbody>\n",
              "</table>\n",
              "</div>\n",
              "      <button class=\"colab-df-convert\" onclick=\"convertToInteractive('df-763ad17d-f9e1-4fe5-acfe-20bb6de1dd9d')\"\n",
              "              title=\"Convert this dataframe to an interactive table.\"\n",
              "              style=\"display:none;\">\n",
              "        \n",
              "  <svg xmlns=\"http://www.w3.org/2000/svg\" height=\"24px\"viewBox=\"0 0 24 24\"\n",
              "       width=\"24px\">\n",
              "    <path d=\"M0 0h24v24H0V0z\" fill=\"none\"/>\n",
              "    <path d=\"M18.56 5.44l.94 2.06.94-2.06 2.06-.94-2.06-.94-.94-2.06-.94 2.06-2.06.94zm-11 1L8.5 8.5l.94-2.06 2.06-.94-2.06-.94L8.5 2.5l-.94 2.06-2.06.94zm10 10l.94 2.06.94-2.06 2.06-.94-2.06-.94-.94-2.06-.94 2.06-2.06.94z\"/><path d=\"M17.41 7.96l-1.37-1.37c-.4-.4-.92-.59-1.43-.59-.52 0-1.04.2-1.43.59L10.3 9.45l-7.72 7.72c-.78.78-.78 2.05 0 2.83L4 21.41c.39.39.9.59 1.41.59.51 0 1.02-.2 1.41-.59l7.78-7.78 2.81-2.81c.8-.78.8-2.07 0-2.86zM5.41 20L4 18.59l7.72-7.72 1.47 1.35L5.41 20z\"/>\n",
              "  </svg>\n",
              "      </button>\n",
              "      \n",
              "  <style>\n",
              "    .colab-df-container {\n",
              "      display:flex;\n",
              "      flex-wrap:wrap;\n",
              "      gap: 12px;\n",
              "    }\n",
              "\n",
              "    .colab-df-convert {\n",
              "      background-color: #E8F0FE;\n",
              "      border: none;\n",
              "      border-radius: 50%;\n",
              "      cursor: pointer;\n",
              "      display: none;\n",
              "      fill: #1967D2;\n",
              "      height: 32px;\n",
              "      padding: 0 0 0 0;\n",
              "      width: 32px;\n",
              "    }\n",
              "\n",
              "    .colab-df-convert:hover {\n",
              "      background-color: #E2EBFA;\n",
              "      box-shadow: 0px 1px 2px rgba(60, 64, 67, 0.3), 0px 1px 3px 1px rgba(60, 64, 67, 0.15);\n",
              "      fill: #174EA6;\n",
              "    }\n",
              "\n",
              "    [theme=dark] .colab-df-convert {\n",
              "      background-color: #3B4455;\n",
              "      fill: #D2E3FC;\n",
              "    }\n",
              "\n",
              "    [theme=dark] .colab-df-convert:hover {\n",
              "      background-color: #434B5C;\n",
              "      box-shadow: 0px 1px 3px 1px rgba(0, 0, 0, 0.15);\n",
              "      filter: drop-shadow(0px 1px 2px rgba(0, 0, 0, 0.3));\n",
              "      fill: #FFFFFF;\n",
              "    }\n",
              "  </style>\n",
              "\n",
              "      <script>\n",
              "        const buttonEl =\n",
              "          document.querySelector('#df-763ad17d-f9e1-4fe5-acfe-20bb6de1dd9d button.colab-df-convert');\n",
              "        buttonEl.style.display =\n",
              "          google.colab.kernel.accessAllowed ? 'block' : 'none';\n",
              "\n",
              "        async function convertToInteractive(key) {\n",
              "          const element = document.querySelector('#df-763ad17d-f9e1-4fe5-acfe-20bb6de1dd9d');\n",
              "          const dataTable =\n",
              "            await google.colab.kernel.invokeFunction('convertToInteractive',\n",
              "                                                     [key], {});\n",
              "          if (!dataTable) return;\n",
              "\n",
              "          const docLinkHtml = 'Like what you see? Visit the ' +\n",
              "            '<a target=\"_blank\" href=https://colab.research.google.com/notebooks/data_table.ipynb>data table notebook</a>'\n",
              "            + ' to learn more about interactive tables.';\n",
              "          element.innerHTML = '';\n",
              "          dataTable['output_type'] = 'display_data';\n",
              "          await google.colab.output.renderOutput(dataTable, element);\n",
              "          const docLink = document.createElement('div');\n",
              "          docLink.innerHTML = docLinkHtml;\n",
              "          element.appendChild(docLink);\n",
              "        }\n",
              "      </script>\n",
              "    </div>\n",
              "  </div>\n",
              "  "
            ]
          },
          "metadata": {},
          "execution_count": 4
        }
      ]
    },
    {
      "cell_type": "code",
      "source": [
        "df.isna().sum()"
      ],
      "metadata": {
        "colab": {
          "base_uri": "https://localhost:8080/"
        },
        "id": "B0iVvpqEzjqc",
        "outputId": "20ad0fff-b4a7-4a2e-df05-af009879f67d"
      },
      "execution_count": null,
      "outputs": [
        {
          "output_type": "execute_result",
          "data": {
            "text/plain": [
              "age         0\n",
              "sex         0\n",
              "cp          0\n",
              "trtbps      0\n",
              "chol        0\n",
              "fbs         0\n",
              "restecg     0\n",
              "thalachh    0\n",
              "exng        0\n",
              "oldpeak     0\n",
              "slp         0\n",
              "caa         0\n",
              "thall       0\n",
              "output      0\n",
              "dtype: int64"
            ]
          },
          "metadata": {},
          "execution_count": 5
        }
      ]
    },
    {
      "cell_type": "code",
      "source": [
        "df.dtypes"
      ],
      "metadata": {
        "id": "zvPQvZ-e89l0",
        "colab": {
          "base_uri": "https://localhost:8080/"
        },
        "outputId": "ff1e3203-a4b4-4d9e-c8f8-f8bab29685bc"
      },
      "execution_count": null,
      "outputs": [
        {
          "output_type": "execute_result",
          "data": {
            "text/plain": [
              "age           int64\n",
              "sex           int64\n",
              "cp            int64\n",
              "trtbps        int64\n",
              "chol          int64\n",
              "fbs           int64\n",
              "restecg       int64\n",
              "thalachh      int64\n",
              "exng          int64\n",
              "oldpeak     float64\n",
              "slp           int64\n",
              "caa           int64\n",
              "thall         int64\n",
              "output        int64\n",
              "dtype: object"
            ]
          },
          "metadata": {},
          "execution_count": 6
        }
      ]
    },
    {
      "cell_type": "code",
      "source": [
        "# obtain the pairwise correlation for all variables\n",
        "cor_matrix = df.corr().abs()\n",
        "display(cor_matrix)\n",
        "# check if any pair of variables is highly correlated \n",
        "display(cor_matrix[(cor_matrix.iloc[:,:] >= 0.75) | (cor_matrix.iloc[:,:] <= -0.75)])"
      ],
      "metadata": {
        "colab": {
          "base_uri": "https://localhost:8080/",
          "height": 959
        },
        "id": "uwRB9uXT7jE4",
        "outputId": "cce5e60a-ddf2-4876-f31a-4706412001b9"
      },
      "execution_count": null,
      "outputs": [
        {
          "output_type": "display_data",
          "data": {
            "text/plain": [
              "               age       sex        cp    trtbps      chol       fbs  \\\n",
              "age       1.000000  0.098447  0.068653  0.279351  0.213678  0.121308   \n",
              "sex       0.098447  1.000000  0.049353  0.056769  0.197912  0.045032   \n",
              "cp        0.068653  0.049353  1.000000  0.047608  0.076904  0.094444   \n",
              "trtbps    0.279351  0.056769  0.047608  1.000000  0.123174  0.177531   \n",
              "chol      0.213678  0.197912  0.076904  0.123174  1.000000  0.013294   \n",
              "fbs       0.121308  0.045032  0.094444  0.177531  0.013294  1.000000   \n",
              "restecg   0.116211  0.058196  0.044421  0.114103  0.151040  0.084189   \n",
              "thalachh  0.398522  0.044020  0.295762  0.046698  0.009940  0.008567   \n",
              "exng      0.096801  0.141664  0.394280  0.067616  0.067023  0.025665   \n",
              "oldpeak   0.210013  0.096093  0.149230  0.193216  0.053952  0.005747   \n",
              "slp       0.168814  0.030711  0.119717  0.121475  0.004038  0.059894   \n",
              "caa       0.276326  0.118261  0.181053  0.101389  0.070511  0.137979   \n",
              "thall     0.068001  0.210041  0.161736  0.062210  0.098803  0.032019   \n",
              "output    0.225439  0.280937  0.433798  0.144931  0.085239  0.028046   \n",
              "\n",
              "           restecg  thalachh      exng   oldpeak       slp       caa  \\\n",
              "age       0.116211  0.398522  0.096801  0.210013  0.168814  0.276326   \n",
              "sex       0.058196  0.044020  0.141664  0.096093  0.030711  0.118261   \n",
              "cp        0.044421  0.295762  0.394280  0.149230  0.119717  0.181053   \n",
              "trtbps    0.114103  0.046698  0.067616  0.193216  0.121475  0.101389   \n",
              "chol      0.151040  0.009940  0.067023  0.053952  0.004038  0.070511   \n",
              "fbs       0.084189  0.008567  0.025665  0.005747  0.059894  0.137979   \n",
              "restecg   1.000000  0.044123  0.070733  0.058770  0.093045  0.072042   \n",
              "thalachh  0.044123  1.000000  0.378812  0.344187  0.386784  0.213177   \n",
              "exng      0.070733  0.378812  1.000000  0.288223  0.257748  0.115739   \n",
              "oldpeak   0.058770  0.344187  0.288223  1.000000  0.577537  0.222682   \n",
              "slp       0.093045  0.386784  0.257748  0.577537  1.000000  0.080155   \n",
              "caa       0.072042  0.213177  0.115739  0.222682  0.080155  1.000000   \n",
              "thall     0.011981  0.096439  0.206754  0.210244  0.104764  0.151832   \n",
              "output    0.137230  0.421741  0.436757  0.430696  0.345877  0.391724   \n",
              "\n",
              "             thall    output  \n",
              "age       0.068001  0.225439  \n",
              "sex       0.210041  0.280937  \n",
              "cp        0.161736  0.433798  \n",
              "trtbps    0.062210  0.144931  \n",
              "chol      0.098803  0.085239  \n",
              "fbs       0.032019  0.028046  \n",
              "restecg   0.011981  0.137230  \n",
              "thalachh  0.096439  0.421741  \n",
              "exng      0.206754  0.436757  \n",
              "oldpeak   0.210244  0.430696  \n",
              "slp       0.104764  0.345877  \n",
              "caa       0.151832  0.391724  \n",
              "thall     1.000000  0.344029  \n",
              "output    0.344029  1.000000  "
            ],
            "text/html": [
              "\n",
              "  <div id=\"df-444c7ce0-2a14-49ab-8b01-9b9fa6c2c52a\">\n",
              "    <div class=\"colab-df-container\">\n",
              "      <div>\n",
              "<style scoped>\n",
              "    .dataframe tbody tr th:only-of-type {\n",
              "        vertical-align: middle;\n",
              "    }\n",
              "\n",
              "    .dataframe tbody tr th {\n",
              "        vertical-align: top;\n",
              "    }\n",
              "\n",
              "    .dataframe thead th {\n",
              "        text-align: right;\n",
              "    }\n",
              "</style>\n",
              "<table border=\"1\" class=\"dataframe\">\n",
              "  <thead>\n",
              "    <tr style=\"text-align: right;\">\n",
              "      <th></th>\n",
              "      <th>age</th>\n",
              "      <th>sex</th>\n",
              "      <th>cp</th>\n",
              "      <th>trtbps</th>\n",
              "      <th>chol</th>\n",
              "      <th>fbs</th>\n",
              "      <th>restecg</th>\n",
              "      <th>thalachh</th>\n",
              "      <th>exng</th>\n",
              "      <th>oldpeak</th>\n",
              "      <th>slp</th>\n",
              "      <th>caa</th>\n",
              "      <th>thall</th>\n",
              "      <th>output</th>\n",
              "    </tr>\n",
              "  </thead>\n",
              "  <tbody>\n",
              "    <tr>\n",
              "      <th>age</th>\n",
              "      <td>1.000000</td>\n",
              "      <td>0.098447</td>\n",
              "      <td>0.068653</td>\n",
              "      <td>0.279351</td>\n",
              "      <td>0.213678</td>\n",
              "      <td>0.121308</td>\n",
              "      <td>0.116211</td>\n",
              "      <td>0.398522</td>\n",
              "      <td>0.096801</td>\n",
              "      <td>0.210013</td>\n",
              "      <td>0.168814</td>\n",
              "      <td>0.276326</td>\n",
              "      <td>0.068001</td>\n",
              "      <td>0.225439</td>\n",
              "    </tr>\n",
              "    <tr>\n",
              "      <th>sex</th>\n",
              "      <td>0.098447</td>\n",
              "      <td>1.000000</td>\n",
              "      <td>0.049353</td>\n",
              "      <td>0.056769</td>\n",
              "      <td>0.197912</td>\n",
              "      <td>0.045032</td>\n",
              "      <td>0.058196</td>\n",
              "      <td>0.044020</td>\n",
              "      <td>0.141664</td>\n",
              "      <td>0.096093</td>\n",
              "      <td>0.030711</td>\n",
              "      <td>0.118261</td>\n",
              "      <td>0.210041</td>\n",
              "      <td>0.280937</td>\n",
              "    </tr>\n",
              "    <tr>\n",
              "      <th>cp</th>\n",
              "      <td>0.068653</td>\n",
              "      <td>0.049353</td>\n",
              "      <td>1.000000</td>\n",
              "      <td>0.047608</td>\n",
              "      <td>0.076904</td>\n",
              "      <td>0.094444</td>\n",
              "      <td>0.044421</td>\n",
              "      <td>0.295762</td>\n",
              "      <td>0.394280</td>\n",
              "      <td>0.149230</td>\n",
              "      <td>0.119717</td>\n",
              "      <td>0.181053</td>\n",
              "      <td>0.161736</td>\n",
              "      <td>0.433798</td>\n",
              "    </tr>\n",
              "    <tr>\n",
              "      <th>trtbps</th>\n",
              "      <td>0.279351</td>\n",
              "      <td>0.056769</td>\n",
              "      <td>0.047608</td>\n",
              "      <td>1.000000</td>\n",
              "      <td>0.123174</td>\n",
              "      <td>0.177531</td>\n",
              "      <td>0.114103</td>\n",
              "      <td>0.046698</td>\n",
              "      <td>0.067616</td>\n",
              "      <td>0.193216</td>\n",
              "      <td>0.121475</td>\n",
              "      <td>0.101389</td>\n",
              "      <td>0.062210</td>\n",
              "      <td>0.144931</td>\n",
              "    </tr>\n",
              "    <tr>\n",
              "      <th>chol</th>\n",
              "      <td>0.213678</td>\n",
              "      <td>0.197912</td>\n",
              "      <td>0.076904</td>\n",
              "      <td>0.123174</td>\n",
              "      <td>1.000000</td>\n",
              "      <td>0.013294</td>\n",
              "      <td>0.151040</td>\n",
              "      <td>0.009940</td>\n",
              "      <td>0.067023</td>\n",
              "      <td>0.053952</td>\n",
              "      <td>0.004038</td>\n",
              "      <td>0.070511</td>\n",
              "      <td>0.098803</td>\n",
              "      <td>0.085239</td>\n",
              "    </tr>\n",
              "    <tr>\n",
              "      <th>fbs</th>\n",
              "      <td>0.121308</td>\n",
              "      <td>0.045032</td>\n",
              "      <td>0.094444</td>\n",
              "      <td>0.177531</td>\n",
              "      <td>0.013294</td>\n",
              "      <td>1.000000</td>\n",
              "      <td>0.084189</td>\n",
              "      <td>0.008567</td>\n",
              "      <td>0.025665</td>\n",
              "      <td>0.005747</td>\n",
              "      <td>0.059894</td>\n",
              "      <td>0.137979</td>\n",
              "      <td>0.032019</td>\n",
              "      <td>0.028046</td>\n",
              "    </tr>\n",
              "    <tr>\n",
              "      <th>restecg</th>\n",
              "      <td>0.116211</td>\n",
              "      <td>0.058196</td>\n",
              "      <td>0.044421</td>\n",
              "      <td>0.114103</td>\n",
              "      <td>0.151040</td>\n",
              "      <td>0.084189</td>\n",
              "      <td>1.000000</td>\n",
              "      <td>0.044123</td>\n",
              "      <td>0.070733</td>\n",
              "      <td>0.058770</td>\n",
              "      <td>0.093045</td>\n",
              "      <td>0.072042</td>\n",
              "      <td>0.011981</td>\n",
              "      <td>0.137230</td>\n",
              "    </tr>\n",
              "    <tr>\n",
              "      <th>thalachh</th>\n",
              "      <td>0.398522</td>\n",
              "      <td>0.044020</td>\n",
              "      <td>0.295762</td>\n",
              "      <td>0.046698</td>\n",
              "      <td>0.009940</td>\n",
              "      <td>0.008567</td>\n",
              "      <td>0.044123</td>\n",
              "      <td>1.000000</td>\n",
              "      <td>0.378812</td>\n",
              "      <td>0.344187</td>\n",
              "      <td>0.386784</td>\n",
              "      <td>0.213177</td>\n",
              "      <td>0.096439</td>\n",
              "      <td>0.421741</td>\n",
              "    </tr>\n",
              "    <tr>\n",
              "      <th>exng</th>\n",
              "      <td>0.096801</td>\n",
              "      <td>0.141664</td>\n",
              "      <td>0.394280</td>\n",
              "      <td>0.067616</td>\n",
              "      <td>0.067023</td>\n",
              "      <td>0.025665</td>\n",
              "      <td>0.070733</td>\n",
              "      <td>0.378812</td>\n",
              "      <td>1.000000</td>\n",
              "      <td>0.288223</td>\n",
              "      <td>0.257748</td>\n",
              "      <td>0.115739</td>\n",
              "      <td>0.206754</td>\n",
              "      <td>0.436757</td>\n",
              "    </tr>\n",
              "    <tr>\n",
              "      <th>oldpeak</th>\n",
              "      <td>0.210013</td>\n",
              "      <td>0.096093</td>\n",
              "      <td>0.149230</td>\n",
              "      <td>0.193216</td>\n",
              "      <td>0.053952</td>\n",
              "      <td>0.005747</td>\n",
              "      <td>0.058770</td>\n",
              "      <td>0.344187</td>\n",
              "      <td>0.288223</td>\n",
              "      <td>1.000000</td>\n",
              "      <td>0.577537</td>\n",
              "      <td>0.222682</td>\n",
              "      <td>0.210244</td>\n",
              "      <td>0.430696</td>\n",
              "    </tr>\n",
              "    <tr>\n",
              "      <th>slp</th>\n",
              "      <td>0.168814</td>\n",
              "      <td>0.030711</td>\n",
              "      <td>0.119717</td>\n",
              "      <td>0.121475</td>\n",
              "      <td>0.004038</td>\n",
              "      <td>0.059894</td>\n",
              "      <td>0.093045</td>\n",
              "      <td>0.386784</td>\n",
              "      <td>0.257748</td>\n",
              "      <td>0.577537</td>\n",
              "      <td>1.000000</td>\n",
              "      <td>0.080155</td>\n",
              "      <td>0.104764</td>\n",
              "      <td>0.345877</td>\n",
              "    </tr>\n",
              "    <tr>\n",
              "      <th>caa</th>\n",
              "      <td>0.276326</td>\n",
              "      <td>0.118261</td>\n",
              "      <td>0.181053</td>\n",
              "      <td>0.101389</td>\n",
              "      <td>0.070511</td>\n",
              "      <td>0.137979</td>\n",
              "      <td>0.072042</td>\n",
              "      <td>0.213177</td>\n",
              "      <td>0.115739</td>\n",
              "      <td>0.222682</td>\n",
              "      <td>0.080155</td>\n",
              "      <td>1.000000</td>\n",
              "      <td>0.151832</td>\n",
              "      <td>0.391724</td>\n",
              "    </tr>\n",
              "    <tr>\n",
              "      <th>thall</th>\n",
              "      <td>0.068001</td>\n",
              "      <td>0.210041</td>\n",
              "      <td>0.161736</td>\n",
              "      <td>0.062210</td>\n",
              "      <td>0.098803</td>\n",
              "      <td>0.032019</td>\n",
              "      <td>0.011981</td>\n",
              "      <td>0.096439</td>\n",
              "      <td>0.206754</td>\n",
              "      <td>0.210244</td>\n",
              "      <td>0.104764</td>\n",
              "      <td>0.151832</td>\n",
              "      <td>1.000000</td>\n",
              "      <td>0.344029</td>\n",
              "    </tr>\n",
              "    <tr>\n",
              "      <th>output</th>\n",
              "      <td>0.225439</td>\n",
              "      <td>0.280937</td>\n",
              "      <td>0.433798</td>\n",
              "      <td>0.144931</td>\n",
              "      <td>0.085239</td>\n",
              "      <td>0.028046</td>\n",
              "      <td>0.137230</td>\n",
              "      <td>0.421741</td>\n",
              "      <td>0.436757</td>\n",
              "      <td>0.430696</td>\n",
              "      <td>0.345877</td>\n",
              "      <td>0.391724</td>\n",
              "      <td>0.344029</td>\n",
              "      <td>1.000000</td>\n",
              "    </tr>\n",
              "  </tbody>\n",
              "</table>\n",
              "</div>\n",
              "      <button class=\"colab-df-convert\" onclick=\"convertToInteractive('df-444c7ce0-2a14-49ab-8b01-9b9fa6c2c52a')\"\n",
              "              title=\"Convert this dataframe to an interactive table.\"\n",
              "              style=\"display:none;\">\n",
              "        \n",
              "  <svg xmlns=\"http://www.w3.org/2000/svg\" height=\"24px\"viewBox=\"0 0 24 24\"\n",
              "       width=\"24px\">\n",
              "    <path d=\"M0 0h24v24H0V0z\" fill=\"none\"/>\n",
              "    <path d=\"M18.56 5.44l.94 2.06.94-2.06 2.06-.94-2.06-.94-.94-2.06-.94 2.06-2.06.94zm-11 1L8.5 8.5l.94-2.06 2.06-.94-2.06-.94L8.5 2.5l-.94 2.06-2.06.94zm10 10l.94 2.06.94-2.06 2.06-.94-2.06-.94-.94-2.06-.94 2.06-2.06.94z\"/><path d=\"M17.41 7.96l-1.37-1.37c-.4-.4-.92-.59-1.43-.59-.52 0-1.04.2-1.43.59L10.3 9.45l-7.72 7.72c-.78.78-.78 2.05 0 2.83L4 21.41c.39.39.9.59 1.41.59.51 0 1.02-.2 1.41-.59l7.78-7.78 2.81-2.81c.8-.78.8-2.07 0-2.86zM5.41 20L4 18.59l7.72-7.72 1.47 1.35L5.41 20z\"/>\n",
              "  </svg>\n",
              "      </button>\n",
              "      \n",
              "  <style>\n",
              "    .colab-df-container {\n",
              "      display:flex;\n",
              "      flex-wrap:wrap;\n",
              "      gap: 12px;\n",
              "    }\n",
              "\n",
              "    .colab-df-convert {\n",
              "      background-color: #E8F0FE;\n",
              "      border: none;\n",
              "      border-radius: 50%;\n",
              "      cursor: pointer;\n",
              "      display: none;\n",
              "      fill: #1967D2;\n",
              "      height: 32px;\n",
              "      padding: 0 0 0 0;\n",
              "      width: 32px;\n",
              "    }\n",
              "\n",
              "    .colab-df-convert:hover {\n",
              "      background-color: #E2EBFA;\n",
              "      box-shadow: 0px 1px 2px rgba(60, 64, 67, 0.3), 0px 1px 3px 1px rgba(60, 64, 67, 0.15);\n",
              "      fill: #174EA6;\n",
              "    }\n",
              "\n",
              "    [theme=dark] .colab-df-convert {\n",
              "      background-color: #3B4455;\n",
              "      fill: #D2E3FC;\n",
              "    }\n",
              "\n",
              "    [theme=dark] .colab-df-convert:hover {\n",
              "      background-color: #434B5C;\n",
              "      box-shadow: 0px 1px 3px 1px rgba(0, 0, 0, 0.15);\n",
              "      filter: drop-shadow(0px 1px 2px rgba(0, 0, 0, 0.3));\n",
              "      fill: #FFFFFF;\n",
              "    }\n",
              "  </style>\n",
              "\n",
              "      <script>\n",
              "        const buttonEl =\n",
              "          document.querySelector('#df-444c7ce0-2a14-49ab-8b01-9b9fa6c2c52a button.colab-df-convert');\n",
              "        buttonEl.style.display =\n",
              "          google.colab.kernel.accessAllowed ? 'block' : 'none';\n",
              "\n",
              "        async function convertToInteractive(key) {\n",
              "          const element = document.querySelector('#df-444c7ce0-2a14-49ab-8b01-9b9fa6c2c52a');\n",
              "          const dataTable =\n",
              "            await google.colab.kernel.invokeFunction('convertToInteractive',\n",
              "                                                     [key], {});\n",
              "          if (!dataTable) return;\n",
              "\n",
              "          const docLinkHtml = 'Like what you see? Visit the ' +\n",
              "            '<a target=\"_blank\" href=https://colab.research.google.com/notebooks/data_table.ipynb>data table notebook</a>'\n",
              "            + ' to learn more about interactive tables.';\n",
              "          element.innerHTML = '';\n",
              "          dataTable['output_type'] = 'display_data';\n",
              "          await google.colab.output.renderOutput(dataTable, element);\n",
              "          const docLink = document.createElement('div');\n",
              "          docLink.innerHTML = docLinkHtml;\n",
              "          element.appendChild(docLink);\n",
              "        }\n",
              "      </script>\n",
              "    </div>\n",
              "  </div>\n",
              "  "
            ]
          },
          "metadata": {}
        },
        {
          "output_type": "display_data",
          "data": {
            "text/plain": [
              "          age  sex   cp  trtbps  chol  fbs  restecg  thalachh  exng  oldpeak  \\\n",
              "age       1.0  NaN  NaN     NaN   NaN  NaN      NaN       NaN   NaN      NaN   \n",
              "sex       NaN  1.0  NaN     NaN   NaN  NaN      NaN       NaN   NaN      NaN   \n",
              "cp        NaN  NaN  1.0     NaN   NaN  NaN      NaN       NaN   NaN      NaN   \n",
              "trtbps    NaN  NaN  NaN     1.0   NaN  NaN      NaN       NaN   NaN      NaN   \n",
              "chol      NaN  NaN  NaN     NaN   1.0  NaN      NaN       NaN   NaN      NaN   \n",
              "fbs       NaN  NaN  NaN     NaN   NaN  1.0      NaN       NaN   NaN      NaN   \n",
              "restecg   NaN  NaN  NaN     NaN   NaN  NaN      1.0       NaN   NaN      NaN   \n",
              "thalachh  NaN  NaN  NaN     NaN   NaN  NaN      NaN       1.0   NaN      NaN   \n",
              "exng      NaN  NaN  NaN     NaN   NaN  NaN      NaN       NaN   1.0      NaN   \n",
              "oldpeak   NaN  NaN  NaN     NaN   NaN  NaN      NaN       NaN   NaN      1.0   \n",
              "slp       NaN  NaN  NaN     NaN   NaN  NaN      NaN       NaN   NaN      NaN   \n",
              "caa       NaN  NaN  NaN     NaN   NaN  NaN      NaN       NaN   NaN      NaN   \n",
              "thall     NaN  NaN  NaN     NaN   NaN  NaN      NaN       NaN   NaN      NaN   \n",
              "output    NaN  NaN  NaN     NaN   NaN  NaN      NaN       NaN   NaN      NaN   \n",
              "\n",
              "          slp  caa  thall  output  \n",
              "age       NaN  NaN    NaN     NaN  \n",
              "sex       NaN  NaN    NaN     NaN  \n",
              "cp        NaN  NaN    NaN     NaN  \n",
              "trtbps    NaN  NaN    NaN     NaN  \n",
              "chol      NaN  NaN    NaN     NaN  \n",
              "fbs       NaN  NaN    NaN     NaN  \n",
              "restecg   NaN  NaN    NaN     NaN  \n",
              "thalachh  NaN  NaN    NaN     NaN  \n",
              "exng      NaN  NaN    NaN     NaN  \n",
              "oldpeak   NaN  NaN    NaN     NaN  \n",
              "slp       1.0  NaN    NaN     NaN  \n",
              "caa       NaN  1.0    NaN     NaN  \n",
              "thall     NaN  NaN    1.0     NaN  \n",
              "output    NaN  NaN    NaN     1.0  "
            ],
            "text/html": [
              "\n",
              "  <div id=\"df-d744cfa4-614c-405b-844e-55693107856e\">\n",
              "    <div class=\"colab-df-container\">\n",
              "      <div>\n",
              "<style scoped>\n",
              "    .dataframe tbody tr th:only-of-type {\n",
              "        vertical-align: middle;\n",
              "    }\n",
              "\n",
              "    .dataframe tbody tr th {\n",
              "        vertical-align: top;\n",
              "    }\n",
              "\n",
              "    .dataframe thead th {\n",
              "        text-align: right;\n",
              "    }\n",
              "</style>\n",
              "<table border=\"1\" class=\"dataframe\">\n",
              "  <thead>\n",
              "    <tr style=\"text-align: right;\">\n",
              "      <th></th>\n",
              "      <th>age</th>\n",
              "      <th>sex</th>\n",
              "      <th>cp</th>\n",
              "      <th>trtbps</th>\n",
              "      <th>chol</th>\n",
              "      <th>fbs</th>\n",
              "      <th>restecg</th>\n",
              "      <th>thalachh</th>\n",
              "      <th>exng</th>\n",
              "      <th>oldpeak</th>\n",
              "      <th>slp</th>\n",
              "      <th>caa</th>\n",
              "      <th>thall</th>\n",
              "      <th>output</th>\n",
              "    </tr>\n",
              "  </thead>\n",
              "  <tbody>\n",
              "    <tr>\n",
              "      <th>age</th>\n",
              "      <td>1.0</td>\n",
              "      <td>NaN</td>\n",
              "      <td>NaN</td>\n",
              "      <td>NaN</td>\n",
              "      <td>NaN</td>\n",
              "      <td>NaN</td>\n",
              "      <td>NaN</td>\n",
              "      <td>NaN</td>\n",
              "      <td>NaN</td>\n",
              "      <td>NaN</td>\n",
              "      <td>NaN</td>\n",
              "      <td>NaN</td>\n",
              "      <td>NaN</td>\n",
              "      <td>NaN</td>\n",
              "    </tr>\n",
              "    <tr>\n",
              "      <th>sex</th>\n",
              "      <td>NaN</td>\n",
              "      <td>1.0</td>\n",
              "      <td>NaN</td>\n",
              "      <td>NaN</td>\n",
              "      <td>NaN</td>\n",
              "      <td>NaN</td>\n",
              "      <td>NaN</td>\n",
              "      <td>NaN</td>\n",
              "      <td>NaN</td>\n",
              "      <td>NaN</td>\n",
              "      <td>NaN</td>\n",
              "      <td>NaN</td>\n",
              "      <td>NaN</td>\n",
              "      <td>NaN</td>\n",
              "    </tr>\n",
              "    <tr>\n",
              "      <th>cp</th>\n",
              "      <td>NaN</td>\n",
              "      <td>NaN</td>\n",
              "      <td>1.0</td>\n",
              "      <td>NaN</td>\n",
              "      <td>NaN</td>\n",
              "      <td>NaN</td>\n",
              "      <td>NaN</td>\n",
              "      <td>NaN</td>\n",
              "      <td>NaN</td>\n",
              "      <td>NaN</td>\n",
              "      <td>NaN</td>\n",
              "      <td>NaN</td>\n",
              "      <td>NaN</td>\n",
              "      <td>NaN</td>\n",
              "    </tr>\n",
              "    <tr>\n",
              "      <th>trtbps</th>\n",
              "      <td>NaN</td>\n",
              "      <td>NaN</td>\n",
              "      <td>NaN</td>\n",
              "      <td>1.0</td>\n",
              "      <td>NaN</td>\n",
              "      <td>NaN</td>\n",
              "      <td>NaN</td>\n",
              "      <td>NaN</td>\n",
              "      <td>NaN</td>\n",
              "      <td>NaN</td>\n",
              "      <td>NaN</td>\n",
              "      <td>NaN</td>\n",
              "      <td>NaN</td>\n",
              "      <td>NaN</td>\n",
              "    </tr>\n",
              "    <tr>\n",
              "      <th>chol</th>\n",
              "      <td>NaN</td>\n",
              "      <td>NaN</td>\n",
              "      <td>NaN</td>\n",
              "      <td>NaN</td>\n",
              "      <td>1.0</td>\n",
              "      <td>NaN</td>\n",
              "      <td>NaN</td>\n",
              "      <td>NaN</td>\n",
              "      <td>NaN</td>\n",
              "      <td>NaN</td>\n",
              "      <td>NaN</td>\n",
              "      <td>NaN</td>\n",
              "      <td>NaN</td>\n",
              "      <td>NaN</td>\n",
              "    </tr>\n",
              "    <tr>\n",
              "      <th>fbs</th>\n",
              "      <td>NaN</td>\n",
              "      <td>NaN</td>\n",
              "      <td>NaN</td>\n",
              "      <td>NaN</td>\n",
              "      <td>NaN</td>\n",
              "      <td>1.0</td>\n",
              "      <td>NaN</td>\n",
              "      <td>NaN</td>\n",
              "      <td>NaN</td>\n",
              "      <td>NaN</td>\n",
              "      <td>NaN</td>\n",
              "      <td>NaN</td>\n",
              "      <td>NaN</td>\n",
              "      <td>NaN</td>\n",
              "    </tr>\n",
              "    <tr>\n",
              "      <th>restecg</th>\n",
              "      <td>NaN</td>\n",
              "      <td>NaN</td>\n",
              "      <td>NaN</td>\n",
              "      <td>NaN</td>\n",
              "      <td>NaN</td>\n",
              "      <td>NaN</td>\n",
              "      <td>1.0</td>\n",
              "      <td>NaN</td>\n",
              "      <td>NaN</td>\n",
              "      <td>NaN</td>\n",
              "      <td>NaN</td>\n",
              "      <td>NaN</td>\n",
              "      <td>NaN</td>\n",
              "      <td>NaN</td>\n",
              "    </tr>\n",
              "    <tr>\n",
              "      <th>thalachh</th>\n",
              "      <td>NaN</td>\n",
              "      <td>NaN</td>\n",
              "      <td>NaN</td>\n",
              "      <td>NaN</td>\n",
              "      <td>NaN</td>\n",
              "      <td>NaN</td>\n",
              "      <td>NaN</td>\n",
              "      <td>1.0</td>\n",
              "      <td>NaN</td>\n",
              "      <td>NaN</td>\n",
              "      <td>NaN</td>\n",
              "      <td>NaN</td>\n",
              "      <td>NaN</td>\n",
              "      <td>NaN</td>\n",
              "    </tr>\n",
              "    <tr>\n",
              "      <th>exng</th>\n",
              "      <td>NaN</td>\n",
              "      <td>NaN</td>\n",
              "      <td>NaN</td>\n",
              "      <td>NaN</td>\n",
              "      <td>NaN</td>\n",
              "      <td>NaN</td>\n",
              "      <td>NaN</td>\n",
              "      <td>NaN</td>\n",
              "      <td>1.0</td>\n",
              "      <td>NaN</td>\n",
              "      <td>NaN</td>\n",
              "      <td>NaN</td>\n",
              "      <td>NaN</td>\n",
              "      <td>NaN</td>\n",
              "    </tr>\n",
              "    <tr>\n",
              "      <th>oldpeak</th>\n",
              "      <td>NaN</td>\n",
              "      <td>NaN</td>\n",
              "      <td>NaN</td>\n",
              "      <td>NaN</td>\n",
              "      <td>NaN</td>\n",
              "      <td>NaN</td>\n",
              "      <td>NaN</td>\n",
              "      <td>NaN</td>\n",
              "      <td>NaN</td>\n",
              "      <td>1.0</td>\n",
              "      <td>NaN</td>\n",
              "      <td>NaN</td>\n",
              "      <td>NaN</td>\n",
              "      <td>NaN</td>\n",
              "    </tr>\n",
              "    <tr>\n",
              "      <th>slp</th>\n",
              "      <td>NaN</td>\n",
              "      <td>NaN</td>\n",
              "      <td>NaN</td>\n",
              "      <td>NaN</td>\n",
              "      <td>NaN</td>\n",
              "      <td>NaN</td>\n",
              "      <td>NaN</td>\n",
              "      <td>NaN</td>\n",
              "      <td>NaN</td>\n",
              "      <td>NaN</td>\n",
              "      <td>1.0</td>\n",
              "      <td>NaN</td>\n",
              "      <td>NaN</td>\n",
              "      <td>NaN</td>\n",
              "    </tr>\n",
              "    <tr>\n",
              "      <th>caa</th>\n",
              "      <td>NaN</td>\n",
              "      <td>NaN</td>\n",
              "      <td>NaN</td>\n",
              "      <td>NaN</td>\n",
              "      <td>NaN</td>\n",
              "      <td>NaN</td>\n",
              "      <td>NaN</td>\n",
              "      <td>NaN</td>\n",
              "      <td>NaN</td>\n",
              "      <td>NaN</td>\n",
              "      <td>NaN</td>\n",
              "      <td>1.0</td>\n",
              "      <td>NaN</td>\n",
              "      <td>NaN</td>\n",
              "    </tr>\n",
              "    <tr>\n",
              "      <th>thall</th>\n",
              "      <td>NaN</td>\n",
              "      <td>NaN</td>\n",
              "      <td>NaN</td>\n",
              "      <td>NaN</td>\n",
              "      <td>NaN</td>\n",
              "      <td>NaN</td>\n",
              "      <td>NaN</td>\n",
              "      <td>NaN</td>\n",
              "      <td>NaN</td>\n",
              "      <td>NaN</td>\n",
              "      <td>NaN</td>\n",
              "      <td>NaN</td>\n",
              "      <td>1.0</td>\n",
              "      <td>NaN</td>\n",
              "    </tr>\n",
              "    <tr>\n",
              "      <th>output</th>\n",
              "      <td>NaN</td>\n",
              "      <td>NaN</td>\n",
              "      <td>NaN</td>\n",
              "      <td>NaN</td>\n",
              "      <td>NaN</td>\n",
              "      <td>NaN</td>\n",
              "      <td>NaN</td>\n",
              "      <td>NaN</td>\n",
              "      <td>NaN</td>\n",
              "      <td>NaN</td>\n",
              "      <td>NaN</td>\n",
              "      <td>NaN</td>\n",
              "      <td>NaN</td>\n",
              "      <td>1.0</td>\n",
              "    </tr>\n",
              "  </tbody>\n",
              "</table>\n",
              "</div>\n",
              "      <button class=\"colab-df-convert\" onclick=\"convertToInteractive('df-d744cfa4-614c-405b-844e-55693107856e')\"\n",
              "              title=\"Convert this dataframe to an interactive table.\"\n",
              "              style=\"display:none;\">\n",
              "        \n",
              "  <svg xmlns=\"http://www.w3.org/2000/svg\" height=\"24px\"viewBox=\"0 0 24 24\"\n",
              "       width=\"24px\">\n",
              "    <path d=\"M0 0h24v24H0V0z\" fill=\"none\"/>\n",
              "    <path d=\"M18.56 5.44l.94 2.06.94-2.06 2.06-.94-2.06-.94-.94-2.06-.94 2.06-2.06.94zm-11 1L8.5 8.5l.94-2.06 2.06-.94-2.06-.94L8.5 2.5l-.94 2.06-2.06.94zm10 10l.94 2.06.94-2.06 2.06-.94-2.06-.94-.94-2.06-.94 2.06-2.06.94z\"/><path d=\"M17.41 7.96l-1.37-1.37c-.4-.4-.92-.59-1.43-.59-.52 0-1.04.2-1.43.59L10.3 9.45l-7.72 7.72c-.78.78-.78 2.05 0 2.83L4 21.41c.39.39.9.59 1.41.59.51 0 1.02-.2 1.41-.59l7.78-7.78 2.81-2.81c.8-.78.8-2.07 0-2.86zM5.41 20L4 18.59l7.72-7.72 1.47 1.35L5.41 20z\"/>\n",
              "  </svg>\n",
              "      </button>\n",
              "      \n",
              "  <style>\n",
              "    .colab-df-container {\n",
              "      display:flex;\n",
              "      flex-wrap:wrap;\n",
              "      gap: 12px;\n",
              "    }\n",
              "\n",
              "    .colab-df-convert {\n",
              "      background-color: #E8F0FE;\n",
              "      border: none;\n",
              "      border-radius: 50%;\n",
              "      cursor: pointer;\n",
              "      display: none;\n",
              "      fill: #1967D2;\n",
              "      height: 32px;\n",
              "      padding: 0 0 0 0;\n",
              "      width: 32px;\n",
              "    }\n",
              "\n",
              "    .colab-df-convert:hover {\n",
              "      background-color: #E2EBFA;\n",
              "      box-shadow: 0px 1px 2px rgba(60, 64, 67, 0.3), 0px 1px 3px 1px rgba(60, 64, 67, 0.15);\n",
              "      fill: #174EA6;\n",
              "    }\n",
              "\n",
              "    [theme=dark] .colab-df-convert {\n",
              "      background-color: #3B4455;\n",
              "      fill: #D2E3FC;\n",
              "    }\n",
              "\n",
              "    [theme=dark] .colab-df-convert:hover {\n",
              "      background-color: #434B5C;\n",
              "      box-shadow: 0px 1px 3px 1px rgba(0, 0, 0, 0.15);\n",
              "      filter: drop-shadow(0px 1px 2px rgba(0, 0, 0, 0.3));\n",
              "      fill: #FFFFFF;\n",
              "    }\n",
              "  </style>\n",
              "\n",
              "      <script>\n",
              "        const buttonEl =\n",
              "          document.querySelector('#df-d744cfa4-614c-405b-844e-55693107856e button.colab-df-convert');\n",
              "        buttonEl.style.display =\n",
              "          google.colab.kernel.accessAllowed ? 'block' : 'none';\n",
              "\n",
              "        async function convertToInteractive(key) {\n",
              "          const element = document.querySelector('#df-d744cfa4-614c-405b-844e-55693107856e');\n",
              "          const dataTable =\n",
              "            await google.colab.kernel.invokeFunction('convertToInteractive',\n",
              "                                                     [key], {});\n",
              "          if (!dataTable) return;\n",
              "\n",
              "          const docLinkHtml = 'Like what you see? Visit the ' +\n",
              "            '<a target=\"_blank\" href=https://colab.research.google.com/notebooks/data_table.ipynb>data table notebook</a>'\n",
              "            + ' to learn more about interactive tables.';\n",
              "          element.innerHTML = '';\n",
              "          dataTable['output_type'] = 'display_data';\n",
              "          await google.colab.output.renderOutput(dataTable, element);\n",
              "          const docLink = document.createElement('div');\n",
              "          docLink.innerHTML = docLinkHtml;\n",
              "          element.appendChild(docLink);\n",
              "        }\n",
              "      </script>\n",
              "    </div>\n",
              "  </div>\n",
              "  "
            ]
          },
          "metadata": {}
        }
      ]
    },
    {
      "cell_type": "markdown",
      "source": [
        "No redundancy found"
      ],
      "metadata": {
        "id": "zKFRDla2KuPl"
      }
    },
    {
      "cell_type": "code",
      "source": [
        "# Creating function for outlier check\n",
        "def outlier_check(var):\n",
        "    sns.displot(data = df, x = var)\n",
        "    print('Variable: ', var) \n",
        "    print('Minimum value: ', df[var].min())\n",
        "    print('1st percentile: ', df[var].quantile(0.01))\n",
        "    print('99th percentile: ', df[var].quantile(0.99))\n",
        "    print('Maximum value: ', df[var].max())\n",
        "\n",
        "# Outlier treatment, sets minimum value to 1st percentile or maximum value to 99th percentile.\n",
        "def outlier_treatment(var, min_treat, max_treat):\n",
        "    min = df[var].quantile(0.01)\n",
        "    max = df[var].quantile(0.99)\n",
        "    if min_treat == 1:\n",
        "        df.loc[df[var] <= min, var] =  min\n",
        "    if max_treat == 1:\n",
        "        df.loc[df[var] >= max, var] =  max"
      ],
      "metadata": {
        "id": "_dloymqAKwH6"
      },
      "execution_count": null,
      "outputs": []
    },
    {
      "cell_type": "code",
      "source": [
        "outlier_check('age')\n",
        "outlier_treatment('age', min_treat = 1, max_treat = 0)"
      ],
      "metadata": {
        "colab": {
          "base_uri": "https://localhost:8080/",
          "height": 456
        },
        "id": "Z90inn9SK-E8",
        "outputId": "3505be9d-29a3-4189-856c-e9208785f92d"
      },
      "execution_count": null,
      "outputs": [
        {
          "output_type": "stream",
          "name": "stdout",
          "text": [
            "Variable:  age\n",
            "Minimum value:  29\n",
            "1st percentile:  35.0\n",
            "99th percentile:  71.0\n",
            "Maximum value:  77\n"
          ]
        },
        {
          "output_type": "display_data",
          "data": {
            "text/plain": [
              "<Figure size 360x360 with 1 Axes>"
            ],
            "image/png": "[encoded data removed]"
          },
          "metadata": {}
        }
      ]
    },
    {
      "cell_type": "code",
      "source": [
        "outlier_check('age')"
      ],
      "metadata": {
        "colab": {
          "base_uri": "https://localhost:8080/",
          "height": 456
        },
        "id": "CJAAs0GaLJSS",
        "outputId": "3e49289a-5caf-493a-f0dd-19a7a791920d"
      },
      "execution_count": null,
      "outputs": [
        {
          "output_type": "stream",
          "name": "stdout",
          "text": [
            "Variable:  age\n",
            "Minimum value:  35\n",
            "1st percentile:  35.0\n",
            "99th percentile:  71.0\n",
            "Maximum value:  77\n"
          ]
        },
        {
          "output_type": "display_data",
          "data": {
            "text/plain": [
              "<Figure size 360x360 with 1 Axes>"
            ],
            "image/png": "[encoded data removed]"
          },
          "metadata": {}
        }
      ]
    },
    {
      "cell_type": "code",
      "source": [
        "outlier_check('trtbps')\n",
        "outlier_treatment('trtbps', min_treat = 1, max_treat = 1)"
      ],
      "metadata": {
        "colab": {
          "base_uri": "https://localhost:8080/",
          "height": 456
        },
        "id": "rlel-vVAOsr4",
        "outputId": "abb72ece-760f-4a0b-c67b-000bb8823ac9"
      },
      "execution_count": null,
      "outputs": [
        {
          "output_type": "stream",
          "name": "stdout",
          "text": [
            "Variable:  trtbps\n",
            "Minimum value:  94\n",
            "1st percentile:  100.0\n",
            "99th percentile:  180.0\n",
            "Maximum value:  200\n"
          ]
        },
        {
          "output_type": "display_data",
          "data": {
            "text/plain": [
              "<Figure size 360x360 with 1 Axes>"
            ],
            "image/png": "[encoded data removed]"
          },
          "metadata": {}
        }
      ]
    },
    {
      "cell_type": "code",
      "source": [
        "outlier_check('trtbps')"
      ],
      "metadata": {
        "colab": {
          "base_uri": "https://localhost:8080/",
          "height": 456
        },
        "id": "Sq8chDO1OwbB",
        "outputId": "3d39ab30-c6e8-4188-c014-36c1802f7b95"
      },
      "execution_count": null,
      "outputs": [
        {
          "output_type": "stream",
          "name": "stdout",
          "text": [
            "Variable:  trtbps\n",
            "Minimum value:  100\n",
            "1st percentile:  100.0\n",
            "99th percentile:  180.0\n",
            "Maximum value:  180\n"
          ]
        },
        {
          "output_type": "display_data",
          "data": {
            "text/plain": [
              "<Figure size 360x360 with 1 Axes>"
            ],
            "image/png": "[encoded data removed]"
          },
          "metadata": {}
        }
      ]
    },
    {
      "cell_type": "code",
      "source": [
        "outlier_check('chol')\n",
        "outlier_treatment('chol', min_treat = 0, max_treat = 1)"
      ],
      "metadata": {
        "colab": {
          "base_uri": "https://localhost:8080/",
          "height": 456
        },
        "id": "IkHlI2DFO1jw",
        "outputId": "0198f742-99cb-47c6-8930-b1994479d3a3"
      },
      "execution_count": null,
      "outputs": [
        {
          "output_type": "stream",
          "name": "stdout",
          "text": [
            "Variable:  chol\n",
            "Minimum value:  126\n",
            "1st percentile:  149.0\n",
            "99th percentile:  406.74000000000024\n",
            "Maximum value:  564\n"
          ]
        },
        {
          "output_type": "display_data",
          "data": {
            "text/plain": [
              "<Figure size 360x360 with 1 Axes>"
            ],
            "image/png": "[encoded data removed]"
          },
          "metadata": {}
        }
      ]
    },
    {
      "cell_type": "code",
      "source": [
        "outlier_check('chol')"
      ],
      "metadata": {
        "colab": {
          "base_uri": "https://localhost:8080/",
          "height": 456
        },
        "id": "JSsG4EpfRZK8",
        "outputId": "8874efac-be7b-4d3f-8a90-c98515180844"
      },
      "execution_count": null,
      "outputs": [
        {
          "output_type": "stream",
          "name": "stdout",
          "text": [
            "Variable:  chol\n",
            "Minimum value:  126.0\n",
            "1st percentile:  149.0\n",
            "99th percentile:  406.4852000000005\n",
            "Maximum value:  406.74000000000024\n"
          ]
        },
        {
          "output_type": "display_data",
          "data": {
            "text/plain": [
              "<Figure size 360x360 with 1 Axes>"
            ],
            "image/png": "[encoded data removed]"
          },
          "metadata": {}
        }
      ]
    },
    {
      "cell_type": "code",
      "source": [
        "outlier_check('thalachh')\n",
        "outlier_treatment('thalachh', min_treat = 1, max_treat = 0)"
      ],
      "metadata": {
        "colab": {
          "base_uri": "https://localhost:8080/",
          "height": 456
        },
        "id": "AltSr89aO9Ij",
        "outputId": "b238ae3d-bcf7-49f0-e548-a479d8b0a9d5"
      },
      "execution_count": null,
      "outputs": [
        {
          "output_type": "stream",
          "name": "stdout",
          "text": [
            "Variable:  thalachh\n",
            "Minimum value:  71\n",
            "1st percentile:  95.02\n",
            "99th percentile:  191.96000000000004\n",
            "Maximum value:  202\n"
          ]
        },
        {
          "output_type": "display_data",
          "data": {
            "text/plain": [
              "<Figure size 360x360 with 1 Axes>"
            ],
            "image/png": "[encoded data removed]"
          },
          "metadata": {}
        }
      ]
    },
    {
      "cell_type": "code",
      "source": [
        "outlier_check('thalachh')"
      ],
      "metadata": {
        "colab": {
          "base_uri": "https://localhost:8080/",
          "height": 456
        },
        "id": "1zisvHkuRc17",
        "outputId": "443b217b-59a3-420d-82ad-f6ea73559e64"
      },
      "execution_count": null,
      "outputs": [
        {
          "output_type": "stream",
          "name": "stdout",
          "text": [
            "Variable:  thalachh\n",
            "Minimum value:  95.02\n",
            "1st percentile:  95.0396\n",
            "99th percentile:  191.96000000000004\n",
            "Maximum value:  202.0\n"
          ]
        },
        {
          "output_type": "display_data",
          "data": {
            "text/plain": [
              "<Figure size 360x360 with 1 Axes>"
            ],
            "image/png": "[encoded data removed]"
          },
          "metadata": {}
        }
      ]
    },
    {
      "cell_type": "code",
      "source": [
        "outlier_check('oldpeak')\n",
        "outlier_treatment('oldpeak', min_treat = 0, max_treat = 1)"
      ],
      "metadata": {
        "colab": {
          "base_uri": "https://localhost:8080/",
          "height": 456
        },
        "id": "sNCitKRSPBVJ",
        "outputId": "45013c39-f6f0-4b75-f89d-88a464086fda"
      },
      "execution_count": null,
      "outputs": [
        {
          "output_type": "stream",
          "name": "stdout",
          "text": [
            "Variable:  oldpeak\n",
            "Minimum value:  0.0\n",
            "1st percentile:  0.0\n",
            "99th percentile:  4.2\n",
            "Maximum value:  6.2\n"
          ]
        },
        {
          "output_type": "display_data",
          "data": {
            "text/plain": [
              "<Figure size 360x360 with 1 Axes>"
            ],
            "image/png": "[encoded data removed]"
          },
          "metadata": {}
        }
      ]
    },
    {
      "cell_type": "code",
      "source": [
        "outlier_check('oldpeak')"
      ],
      "metadata": {
        "colab": {
          "base_uri": "https://localhost:8080/",
          "height": 456
        },
        "id": "k0k2FbkZRfpc",
        "outputId": "a12bfddc-9c93-4daf-8b66-1b89280c1e10"
      },
      "execution_count": null,
      "outputs": [
        {
          "output_type": "stream",
          "name": "stdout",
          "text": [
            "Variable:  oldpeak\n",
            "Minimum value:  0.0\n",
            "1st percentile:  0.0\n",
            "99th percentile:  4.2\n",
            "Maximum value:  4.2\n"
          ]
        },
        {
          "output_type": "display_data",
          "data": {
            "text/plain": [
              "<Figure size 360x360 with 1 Axes>"
            ],
            "image/png": "[encoded data removed]"
          },
          "metadata": {}
        }
      ]
    },
    {
      "cell_type": "code",
      "source": [
        "sns.countplot(df['output'])\n",
        "print(pd.concat( [df['output'].value_counts(),\n",
        "                  df['output'].value_counts(normalize=True).mul(100).round(2)],\n",
        "                 axis = 1,\n",
        "                 keys = ('Count', 'Percentage')))"
      ],
      "metadata": {
        "colab": {
          "base_uri": "https://localhost:8080/",
          "height": 334
        },
        "id": "8lNqbbDTPJyF",
        "outputId": "2ab7cd9d-3bf1-4d82-d015-00a64180cd9a"
      },
      "execution_count": null,
      "outputs": [
        {
          "output_type": "stream",
          "name": "stdout",
          "text": [
            "   Count  Percentage\n",
            "1    165       54.46\n",
            "0    138       45.54\n"
          ]
        },
        {
          "output_type": "display_data",
          "data": {
            "text/plain": [
              "<Figure size 432x288 with 1 Axes>"
            ],
            "image/png": "[encoded data removed]"
          },
          "metadata": {}
        }
      ]
    },
    {
      "cell_type": "markdown",
      "source": [
        "## EDA"
      ],
      "metadata": {
        "id": "Zi9R7uP67R89"
      }
    },
    {
      "cell_type": "code",
      "source": [
        "import os\n",
        "import numpy as np \n",
        "import pandas as pd \n",
        "import warnings\n",
        "import seaborn as sns\n",
        "import matplotlib.pyplot as plt\n",
        "import plotly.express as px\n",
        "warnings.filterwarnings(\"ignore\")\n",
        "pd.set_option(\"display.max_rows\",None)\n",
        "from sklearn import preprocessing\n",
        "import matplotlib \n",
        "matplotlib.style.use('ggplot')\n",
        "from sklearn.preprocessing import LabelEncoder\n",
        "\n",
        "df = pd.read_csv(\"heart.csv\")\n",
        "df.head()"
      ],
      "metadata": {
        "colab": {
          "base_uri": "https://localhost:8080/",
          "height": 206
        },
        "id": "m_XPUY-6f4ki",
        "outputId": "f637655b-d491-4a05-c94b-cd363bf3ee3d"
      },
      "execution_count": null,
      "outputs": [
        {
          "output_type": "execute_result",
          "data": {
            "text/plain": [
              "   age  sex  cp  trtbps  chol  fbs  restecg  thalachh  exng  oldpeak  slp  \\\n",
              "0   63    1   3     145   233    1        0       150     0      2.3    0   \n",
              "1   37    1   2     130   250    0        1       187     0      3.5    0   \n",
              "2   41    0   1     130   204    0        0       172     0      1.4    2   \n",
              "3   56    1   1     120   236    0        1       178     0      0.8    2   \n",
              "4   57    0   0     120   354    0        1       163     1      0.6    2   \n",
              "\n",
              "   caa  thall  output  \n",
              "0    0      1       1  \n",
              "1    0      2       1  \n",
              "2    0      2       1  \n",
              "3    0      2       1  \n",
              "4    0      2       1  "
            ],
            "text/html": [
              "\n",
              "  <div id=\"df-32b0fb44-a765-455b-b323-d6a0b59f46d4\">\n",
              "    <div class=\"colab-df-container\">\n",
              "      <div>\n",
              "<style scoped>\n",
              "    .dataframe tbody tr th:only-of-type {\n",
              "        vertical-align: middle;\n",
              "    }\n",
              "\n",
              "    .dataframe tbody tr th {\n",
              "        vertical-align: top;\n",
              "    }\n",
              "\n",
              "    .dataframe thead th {\n",
              "        text-align: right;\n",
              "    }\n",
              "</style>\n",
              "<table border=\"1\" class=\"dataframe\">\n",
              "  <thead>\n",
              "    <tr style=\"text-align: right;\">\n",
              "      <th></th>\n",
              "      <th>age</th>\n",
              "      <th>sex</th>\n",
              "      <th>cp</th>\n",
              "      <th>trtbps</th>\n",
              "      <th>chol</th>\n",
              "      <th>fbs</th>\n",
              "      <th>restecg</th>\n",
              "      <th>thalachh</th>\n",
              "      <th>exng</th>\n",
              "      <th>oldpeak</th>\n",
              "      <th>slp</th>\n",
              "      <th>caa</th>\n",
              "      <th>thall</th>\n",
              "      <th>output</th>\n",
              "    </tr>\n",
              "  </thead>\n",
              "  <tbody>\n",
              "    <tr>\n",
              "      <th>0</th>\n",
              "      <td>63</td>\n",
              "      <td>1</td>\n",
              "      <td>3</td>\n",
              "      <td>145</td>\n",
              "      <td>233</td>\n",
              "      <td>1</td>\n",
              "      <td>0</td>\n",
              "      <td>150</td>\n",
              "      <td>0</td>\n",
              "      <td>2.3</td>\n",
              "      <td>0</td>\n",
              "      <td>0</td>\n",
              "      <td>1</td>\n",
              "      <td>1</td>\n",
              "    </tr>\n",
              "    <tr>\n",
              "      <th>1</th>\n",
              "      <td>37</td>\n",
              "      <td>1</td>\n",
              "      <td>2</td>\n",
              "      <td>130</td>\n",
              "      <td>250</td>\n",
              "      <td>0</td>\n",
              "      <td>1</td>\n",
              "      <td>187</td>\n",
              "      <td>0</td>\n",
              "      <td>3.5</td>\n",
              "      <td>0</td>\n",
              "      <td>0</td>\n",
              "      <td>2</td>\n",
              "      <td>1</td>\n",
              "    </tr>\n",
              "    <tr>\n",
              "      <th>2</th>\n",
              "      <td>41</td>\n",
              "      <td>0</td>\n",
              "      <td>1</td>\n",
              "      <td>130</td>\n",
              "      <td>204</td>\n",
              "      <td>0</td>\n",
              "      <td>0</td>\n",
              "      <td>172</td>\n",
              "      <td>0</td>\n",
              "      <td>1.4</td>\n",
              "      <td>2</td>\n",
              "      <td>0</td>\n",
              "      <td>2</td>\n",
              "      <td>1</td>\n",
              "    </tr>\n",
              "    <tr>\n",
              "      <th>3</th>\n",
              "      <td>56</td>\n",
              "      <td>1</td>\n",
              "      <td>1</td>\n",
              "      <td>120</td>\n",
              "      <td>236</td>\n",
              "      <td>0</td>\n",
              "      <td>1</td>\n",
              "      <td>178</td>\n",
              "      <td>0</td>\n",
              "      <td>0.8</td>\n",
              "      <td>2</td>\n",
              "      <td>0</td>\n",
              "      <td>2</td>\n",
              "      <td>1</td>\n",
              "    </tr>\n",
              "    <tr>\n",
              "      <th>4</th>\n",
              "      <td>57</td>\n",
              "      <td>0</td>\n",
              "      <td>0</td>\n",
              "      <td>120</td>\n",
              "      <td>354</td>\n",
              "      <td>0</td>\n",
              "      <td>1</td>\n",
              "      <td>163</td>\n",
              "      <td>1</td>\n",
              "      <td>0.6</td>\n",
              "      <td>2</td>\n",
              "      <td>0</td>\n",
              "      <td>2</td>\n",
              "      <td>1</td>\n",
              "    </tr>\n",
              "  </tbody>\n",
              "</table>\n",
              "</div>\n",
              "      <button class=\"colab-df-convert\" onclick=\"convertToInteractive('df-32b0fb44-a765-455b-b323-d6a0b59f46d4')\"\n",
              "              title=\"Convert this dataframe to an interactive table.\"\n",
              "              style=\"display:none;\">\n",
              "        \n",
              "  <svg xmlns=\"http://www.w3.org/2000/svg\" height=\"24px\"viewBox=\"0 0 24 24\"\n",
              "       width=\"24px\">\n",
              "    <path d=\"M0 0h24v24H0V0z\" fill=\"none\"/>\n",
              "    <path d=\"M18.56 5.44l.94 2.06.94-2.06 2.06-.94-2.06-.94-.94-2.06-.94 2.06-2.06.94zm-11 1L8.5 8.5l.94-2.06 2.06-.94-2.06-.94L8.5 2.5l-.94 2.06-2.06.94zm10 10l.94 2.06.94-2.06 2.06-.94-2.06-.94-.94-2.06-.94 2.06-2.06.94z\"/><path d=\"M17.41 7.96l-1.37-1.37c-.4-.4-.92-.59-1.43-.59-.52 0-1.04.2-1.43.59L10.3 9.45l-7.72 7.72c-.78.78-.78 2.05 0 2.83L4 21.41c.39.39.9.59 1.41.59.51 0 1.02-.2 1.41-.59l7.78-7.78 2.81-2.81c.8-.78.8-2.07 0-2.86zM5.41 20L4 18.59l7.72-7.72 1.47 1.35L5.41 20z\"/>\n",
              "  </svg>\n",
              "      </button>\n",
              "      \n",
              "  <style>\n",
              "    .colab-df-container {\n",
              "      display:flex;\n",
              "      flex-wrap:wrap;\n",
              "      gap: 12px;\n",
              "    }\n",
              "\n",
              "    .colab-df-convert {\n",
              "      background-color: #E8F0FE;\n",
              "      border: none;\n",
              "      border-radius: 50%;\n",
              "      cursor: pointer;\n",
              "      display: none;\n",
              "      fill: #1967D2;\n",
              "      height: 32px;\n",
              "      padding: 0 0 0 0;\n",
              "      width: 32px;\n",
              "    }\n",
              "\n",
              "    .colab-df-convert:hover {\n",
              "      background-color: #E2EBFA;\n",
              "      box-shadow: 0px 1px 2px rgba(60, 64, 67, 0.3), 0px 1px 3px 1px rgba(60, 64, 67, 0.15);\n",
              "      fill: #174EA6;\n",
              "    }\n",
              "\n",
              "    [theme=dark] .colab-df-convert {\n",
              "      background-color: #3B4455;\n",
              "      fill: #D2E3FC;\n",
              "    }\n",
              "\n",
              "    [theme=dark] .colab-df-convert:hover {\n",
              "      background-color: #434B5C;\n",
              "      box-shadow: 0px 1px 3px 1px rgba(0, 0, 0, 0.15);\n",
              "      filter: drop-shadow(0px 1px 2px rgba(0, 0, 0, 0.3));\n",
              "      fill: #FFFFFF;\n",
              "    }\n",
              "  </style>\n",
              "\n",
              "      <script>\n",
              "        const buttonEl =\n",
              "          document.querySelector('#df-32b0fb44-a765-455b-b323-d6a0b59f46d4 button.colab-df-convert');\n",
              "        buttonEl.style.display =\n",
              "          google.colab.kernel.accessAllowed ? 'block' : 'none';\n",
              "\n",
              "        async function convertToInteractive(key) {\n",
              "          const element = document.querySelector('#df-32b0fb44-a765-455b-b323-d6a0b59f46d4');\n",
              "          const dataTable =\n",
              "            await google.colab.kernel.invokeFunction('convertToInteractive',\n",
              "                                                     [key], {});\n",
              "          if (!dataTable) return;\n",
              "\n",
              "          const docLinkHtml = 'Like what you see? Visit the ' +\n",
              "            '<a target=\"_blank\" href=https://colab.research.google.com/notebooks/data_table.ipynb>data table notebook</a>'\n",
              "            + ' to learn more about interactive tables.';\n",
              "          element.innerHTML = '';\n",
              "          dataTable['output_type'] = 'display_data';\n",
              "          await google.colab.output.renderOutput(dataTable, element);\n",
              "          const docLink = document.createElement('div');\n",
              "          docLink.innerHTML = docLinkHtml;\n",
              "          element.appendChild(docLink);\n",
              "        }\n",
              "      </script>\n",
              "    </div>\n",
              "  </div>\n",
              "  "
            ]
          },
          "metadata": {},
          "execution_count": 20
        }
      ]
    },
    {
      "cell_type": "code",
      "source": [
        "cat_cols = ['sex','exng','caa','cp','fbs','re','slp','thall']\n",
        "con_cols = [\"age\",\"pressure\",\"cholesterol\",\"rate\",\"oldpeak\"]\n",
        "target_col = [\"output\"]"
      ],
      "metadata": {
        "id": "wcDyszYmgMd8"
      },
      "execution_count": null,
      "outputs": []
    },
    {
      "cell_type": "code",
      "source": [
        "fig = plt.figure(figsize=(16,16))\n",
        "gs = fig.add_gridspec(5,2)\n",
        "gs.update(wspace=0.5, hspace=0.5)\n",
        "ax0 = fig.add_subplot(gs[0,0])\n",
        "ax1 = fig.add_subplot(gs[0,1])\n",
        "ax2 = fig.add_subplot(gs[1,0])\n",
        "ax3 = fig.add_subplot(gs[1,1])\n",
        "ax4 = fig.add_subplot(gs[2,0])\n",
        "ax5 = fig.add_subplot(gs[2,1])\n",
        "ax6 = fig.add_subplot(gs[3,0])\n",
        "ax7 = fig.add_subplot(gs[3,1])\n",
        "ax8 = fig.add_subplot(gs[4,0])\n",
        "ax9 = fig.add_subplot(gs[4,1])\n",
        "\n",
        "background_color = \"#FFFFFF\"\n",
        "color_palette = [\"#5833ff\",\"#8000ff\",\"#6aac90\",\"#5833ff\",\"#da8829\"]\n",
        "fig.patch.set_facecolor(background_color) \n",
        "ax0.set_facecolor(background_color) \n",
        "ax1.set_facecolor(background_color) \n",
        "ax2.set_facecolor(background_color)\n",
        "ax3.set_facecolor(background_color)\n",
        "ax4.set_facecolor(background_color)\n",
        "ax5.set_facecolor(background_color) \n",
        "ax6.set_facecolor(background_color) \n",
        "ax7.set_facecolor(background_color)\n",
        "ax8.set_facecolor(background_color)\n",
        "ax9.set_facecolor(background_color)\n",
        "\n",
        "# Age title\n",
        "ax0.text(0.5,0.5,\"Distribution of age\\naccording to\\n target variable\\n___________\",\n",
        "        horizontalalignment = 'center',\n",
        "        verticalalignment = 'center',\n",
        "        fontsize = 18,\n",
        "        fontweight='bold',\n",
        "        fontfamily='serif',\n",
        "        color='#000000')\n",
        "ax0.spines[\"bottom\"].set_visible(False)\n",
        "ax0.set_xticklabels([])\n",
        "ax0.set_yticklabels([])\n",
        "ax0.tick_params(left=False, bottom=False)\n",
        "\n",
        "# Age\n",
        "ax1.grid(color='#000000', linestyle=':', axis='y', zorder=0,  dashes=(1,5))\n",
        "sns.kdeplot(ax=ax1, data=df, x='age',hue=\"output\", fill=True,palette=[\"#800000\",\"#9370DB\"], alpha=.5, linewidth=0)\n",
        "ax1.set_xlabel(\"\")\n",
        "ax1.set_ylabel(\"\")\n",
        "# TrTbps title pressure\n",
        "ax2.text(0.5,0.5,\"Distribution of pressure\\naccording to\\n target variable\\n___________\",\n",
        "        horizontalalignment = 'center',\n",
        "        verticalalignment = 'center',\n",
        "        fontsize = 18,\n",
        "        fontweight='bold',\n",
        "        fontfamily='serif',\n",
        "        color='#000000')\n",
        "ax2.spines[\"bottom\"].set_visible(False)\n",
        "ax2.set_xticklabels([])\n",
        "ax2.set_yticklabels([])\n",
        "ax2.tick_params(left=False, bottom=False)\n",
        "\n",
        "# TrTbps\n",
        "ax3.grid(color='#000000', linestyle=':', axis='y', zorder=0,  dashes=(1,5))\n",
        "sns.kdeplot(ax=ax3, data=df, x='trtbps',hue=\"output\", fill=True,palette=[\"#800000\",\"#9370DB\"], alpha=.5, linewidth=0)\n",
        "ax3.set_xlabel(\"\")\n",
        "ax3.set_ylabel(\"\")\n",
        "# Chol title\n",
        "ax4.text(0.5,0.5,\"Distribution of cholesterol\\naccording to\\n target variable\\n___________\",\n",
        "        horizontalalignment = 'center',\n",
        "        verticalalignment = 'center',\n",
        "        fontsize = 18,\n",
        "        fontweight='bold',\n",
        "        fontfamily='serif',\n",
        "        color='#000000')\n",
        "ax4.spines[\"bottom\"].set_visible(False)\n",
        "ax4.set_xticklabels([])\n",
        "ax4.set_yticklabels([])\n",
        "ax4.tick_params(left=False, bottom=False)\n",
        "\n",
        "# Chol\n",
        "ax5.grid(color='#000000', linestyle=':', axis='y', zorder=0,  dashes=(1,5))\n",
        "sns.kdeplot(ax=ax5, data=df, x='chol',hue=\"output\", fill=True,palette=[\"#800000\",\"#9370DB\"], alpha=.5, linewidth=0)\n",
        "ax5.set_xlabel(\"\")\n",
        "ax5.set_ylabel(\"\")\n",
        "# Thalachh title\n",
        "ax6.text(0.5,0.5,\"Distribution of rate\\naccording to\\n target variable\\n___________\",\n",
        "        horizontalalignment = 'center',\n",
        "        verticalalignment = 'center',\n",
        "        fontsize = 18,\n",
        "        fontweight='bold',\n",
        "        fontfamily='serif',\n",
        "        color='#000000')\n",
        "ax6.spines[\"bottom\"].set_visible(False)\n",
        "ax6.set_xticklabels([])\n",
        "ax6.set_yticklabels([])\n",
        "ax6.tick_params(left=False, bottom=False)\n",
        "\n",
        "# rate \n",
        "ax7.grid(color='#000000', linestyle=':', axis='y', zorder=0,  dashes=(1,5))\n",
        "sns.kdeplot(ax=ax7, data=df, x='thalachh',hue=\"output\", fill=True,palette=[\"#800000\",\"#9370DB\"], alpha=.5, linewidth=0)\n",
        "ax7.set_xlabel(\"\")\n",
        "ax7.set_ylabel(\"\")\n",
        "\n",
        "# Oldpeak title\n",
        "ax8.text(0.5,0.5,\"Distribution of oldpeak\\naccording to\\n target variable\\n___________\",\n",
        "        horizontalalignment = 'center',\n",
        "        verticalalignment = 'center',\n",
        "        fontsize = 18,\n",
        "        fontweight='bold',\n",
        "        fontfamily='serif',\n",
        "        color='#000000')\n",
        "ax8.spines[\"bottom\"].set_visible(False)\n",
        "ax8.set_xticklabels([])\n",
        "ax8.set_yticklabels([])\n",
        "ax8.tick_params(left=False, bottom=False)\n",
        "\n",
        "# Oldpeak\n",
        "ax9.grid(color='#000000', linestyle=':', axis='y', zorder=0,  dashes=(1,5))\n",
        "sns.kdeplot(ax=ax9, data=df, x='oldpeak',hue=\"output\", fill=True,palette=[\"#800000\",\"#9370DB\"], alpha=.5, linewidth=0)\n",
        "ax9.set_xlabel(\"\")\n",
        "ax9.set_ylabel(\"\")\n",
        "\n",
        "for i in [\"top\",\"left\",\"right\"]:\n",
        "    ax0.spines[i].set_visible(False)\n",
        "    ax1.spines[i].set_visible(False)\n",
        "    ax2.spines[i].set_visible(False)\n",
        "    ax3.spines[i].set_visible(False)\n",
        "    ax4.spines[i].set_visible(False)\n",
        "    ax5.spines[i].set_visible(False)\n",
        "    ax6.spines[i].set_visible(False)\n",
        "    ax7.spines[i].set_visible(False)\n",
        "    ax8.spines[i].set_visible(False)\n",
        "    ax9.spines[i].set_visible(False)"
      ],
      "metadata": {
        "colab": {
          "base_uri": "https://localhost:8080/",
          "height": 918
        },
        "id": "OxlYQHvqkKZk",
        "outputId": "c5ba6294-ee71-4937-dc46-b916d9c76f76"
      },
      "execution_count": null,
      "outputs": [
        {
          "output_type": "display_data",
          "data": {
            "text/plain": [
              "<Figure size 1152x1152 with 10 Axes>"
            ],
            "image/png": "[encoded data removed]"
          },
          "metadata": {}
        }
      ]
    },
    {
      "cell_type": "code",
      "source": [
        "fig = plt.figure(figsize=(18,16))\n",
        "gs = fig.add_gridspec(2,3)\n",
        "gs.update(wspace=0.3, hspace=0.15)\n",
        "ax0 = fig.add_subplot(gs[0,0])\n",
        "ax1 = fig.add_subplot(gs[0,1])\n",
        "ax2 = fig.add_subplot(gs[0,2])\n",
        "ax3 = fig.add_subplot(gs[1,0])\n",
        "ax4 = fig.add_subplot(gs[1,1])\n",
        "ax5 = fig.add_subplot(gs[1,2])\n",
        "\n",
        "background_color = \"#FFFFFF\"\n",
        "color_palette = [\"#800000\",\"#9370DB\",\"#6aac90\",\"#4169E1\",\"#da8829\"]\n",
        "fig.patch.set_facecolor(background_color) \n",
        "ax0.set_facecolor(background_color) \n",
        "ax1.set_facecolor(background_color) \n",
        "ax2.set_facecolor(background_color) \n",
        "ax3.set_facecolor(background_color) \n",
        "ax4.set_facecolor(background_color) \n",
        "ax5.set_facecolor(background_color) \n",
        "\n",
        "# Title of the plot\n",
        "ax0.spines[\"bottom\"].set_visible(False)\n",
        "ax0.spines[\"left\"].set_visible(False)\n",
        "ax0.spines[\"top\"].set_visible(False)\n",
        "ax0.spines[\"right\"].set_visible(False)\n",
        "ax0.tick_params(left=False, bottom=False)\n",
        "ax0.set_xticklabels([])\n",
        "ax0.set_yticklabels([])\n",
        "ax0.text(0.5,0.5,\n",
        "         'Box plot for various\\n continuous features\\n_________________',\n",
        "         horizontalalignment='center',\n",
        "         verticalalignment='center',\n",
        "         fontsize=18, fontweight='bold',\n",
        "         fontfamily='serif',\n",
        "         color=\"#000000\")\n",
        "\n",
        "# Age \n",
        "ax1.text(-0.05, 81, 'Age', fontsize=14, fontweight='bold', fontfamily='serif', color=\"#000000\")\n",
        "ax1.grid(color='#000000', linestyle=':', axis='y', zorder=0,  dashes=(1,5))\n",
        "sns.boxplot(ax=ax1,x='output',y='age',data=df,hue=df['output'],palette=[\"#800000\"],width=0.6)\n",
        "ax1.set_xlabel(\"\")\n",
        "ax1.set_ylabel(\"\")\n",
        "\n",
        "# Trtbps \n",
        "ax2.text(-0.05, 208, 'pressure', fontsize=14, fontweight='bold', fontfamily='serif', color=\"#000000\")\n",
        "ax2.grid(color='#000000', linestyle=':', axis='y', zorder=0,  dashes=(1,5))\n",
        "sns.boxplot(ax=ax2,x='output',y='trtbps',data=df,hue=df['output'],palette=[\"#9370DB\"],width=0.6)\n",
        "ax2.set_xlabel(\"\")\n",
        "ax2.set_ylabel(\"\")\n",
        "\n",
        "# Chol \n",
        "ax3.text(-0.05, 600, 'cholestral', fontsize=14, fontweight='bold', fontfamily='serif', color=\"#000000\")\n",
        "ax3.grid(color='#000000', linestyle=':', axis='y', zorder=0,  dashes=(1,5))\n",
        "sns.boxplot(ax=ax3,x='output',y='chol',data=df,hue=df['output'],palette=[\"#6aac90\"],width=0.6)\n",
        "ax3.set_xlabel(\"\")\n",
        "ax3.set_ylabel(\"\")\n",
        "\n",
        "# rate  \n",
        "ax4.text(-0.09, 210, 'rate', fontsize=14, fontweight='bold', fontfamily='serif', color=\"#000000\")\n",
        "ax4.grid(color='#000000', linestyle=':', axis='y', zorder=0,  dashes=(1,5))\n",
        "sns.boxplot(ax=ax4,x='output',y='thalachh',data=df,hue=df['output'],palette=[\"#4169E1\"],width=0.6)\n",
        "ax4.set_xlabel(\"\")\n",
        "ax4.set_ylabel(\"\")\n",
        "# oldpeak \n",
        "ax5.text(-0.1, 6.6, 'Oldpeak', fontsize=14, fontweight='bold', fontfamily='serif', color=\"#000000\")\n",
        "ax5.grid(color='#000000', linestyle=':', axis='y', zorder=0,  dashes=(1,5))\n",
        "sns.boxplot(ax=ax5,x='output',y='oldpeak',data=df,hue=df['output'],palette=[\"#da8829\"],width=0.6)\n",
        "ax5.set_xlabel(\"\")\n",
        "ax5.set_ylabel(\"\")\n",
        "\n",
        "for s in [\"top\",\"right\",\"left\"]:\n",
        "    ax0.spines[s].set_visible(False)\n",
        "    ax1.spines[s].set_visible(False)\n",
        "    ax2.spines[s].set_visible(False)\n",
        "    ax3.spines[s].set_visible(False)\n",
        "    ax4.spines[s].set_visible(False)\n",
        "    ax5.spines[s].set_visible(False)"
      ],
      "metadata": {
        "colab": {
          "base_uri": "https://localhost:8080/",
          "height": 941
        },
        "id": "2x1npFCn-HWD",
        "outputId": "ba2808d8-5d51-443b-fffa-5a48e6c9529f"
      },
      "execution_count": null,
      "outputs": [
        {
          "output_type": "display_data",
          "data": {
            "text/plain": [
              "<Figure size 1296x1152 with 6 Axes>"
            ],
            "image/png": "[encoded data removed]"
          },
          "metadata": {}
        }
      ]
    },
    {
      "cell_type": "markdown",
      "source": [
        "There are certain outliers in all the continuous features.  \n",
        "\n",
        "It is intuitive that elder people might have higher chances of heart attack but according to the distribution plot of age, it is evident that this isn't the case.   \n",
        "\n",
        "In the Trtbps and Chol plots, the distribution of people with less chance of heart attack and more chance is similar.\n",
        "\n",
        "According to the distribution plot of thalachh, people with higher maximum heart rate achieved have higher chances of heart attack.   \n",
        "\n",
        "According to the distribution plot of oldpeak, people with lower pevious peak achieved have higher chances of heart attack. \n"
      ],
      "metadata": {
        "id": "n3-okztRs_cI"
      }
    },
    {
      "cell_type": "code",
      "source": [
        "fig = plt.figure(figsize=(20,15))\n",
        "gs = fig.add_gridspec(3,3)\n",
        "gs.update(wspace=0.5, hspace=0.25)\n",
        "ax0 = fig.add_subplot(gs[0,0])\n",
        "ax1 = fig.add_subplot(gs[0,1])\n",
        "ax2 = fig.add_subplot(gs[0,2])\n",
        "ax3 = fig.add_subplot(gs[1,0])\n",
        "ax4 = fig.add_subplot(gs[1,1])\n",
        "ax5 = fig.add_subplot(gs[1,2])\n",
        "ax6 = fig.add_subplot(gs[2,0])\n",
        "ax7 = fig.add_subplot(gs[2,1])\n",
        "ax8 = fig.add_subplot(gs[2,2])\n",
        "\n",
        "background_color = \"#FFFFFF\"\n",
        "color_palette = [\"#800000\",\"#9370DB\",\"#6aac90\",\"#4169E1\",\"#da8829\"]\n",
        "fig.patch.set_facecolor(background_color) \n",
        "ax0.set_facecolor(background_color) \n",
        "ax1.set_facecolor(background_color) \n",
        "ax2.set_facecolor(background_color) \n",
        "ax3.set_facecolor(background_color) \n",
        "ax4.set_facecolor(background_color) \n",
        "ax5.set_facecolor(background_color) \n",
        "ax6.set_facecolor(background_color) \n",
        "ax7.set_facecolor(background_color) \n",
        "ax8.set_facecolor(background_color) \n",
        "\n",
        "# Title of the plot\n",
        "ax0.spines[\"bottom\"].set_visible(False)\n",
        "ax0.spines[\"left\"].set_visible(False)\n",
        "ax0.spines[\"top\"].set_visible(False)\n",
        "ax0.spines[\"right\"].set_visible(False)\n",
        "ax0.spines[\"right\"].set_visible(False)\n",
        "ax0.tick_params(left=False, bottom=False)\n",
        "ax0.set_xticklabels([])\n",
        "ax0.set_yticklabels([])\n",
        "ax0.text(0.5,0.5,\n",
        "         'Count plot for various\\n categorical features\\n_________________',\n",
        "         horizontalalignment='center',\n",
        "         verticalalignment='center',\n",
        "         fontsize=18, fontweight='bold',\n",
        "         fontfamily='serif',\n",
        "         color=\"#000000\")\n",
        "\n",
        "# Sex count\n",
        "ax1.text(-0.1, 130, 'Sex: 0-Female 1-Male', fontsize=15, fontweight='bold', fontfamily='serif', color=\"#000000\")\n",
        "ax1.grid(color='#000000', linestyle=':', axis='y', zorder=0,  dashes=(1,5))\n",
        "sns.countplot(ax=ax1,data=df,x='sex',hue='output',fill= True,palette=color_palette)\n",
        "ax1.set_xlabel(\"\")\n",
        "ax1.set_ylabel(\"\")\n",
        "\n",
        "# Exng count\n",
        "ax2.text(-1, 160, 'Exng: exercise induced angina (1 = yes; 0 = no)', fontsize=15, fontweight='bold', fontfamily='serif', color=\"#000000\")\n",
        "ax2.grid(color='#000000', linestyle=':', axis='y', zorder=0,  dashes=(1,5))\n",
        "sns.countplot(ax=ax2,data=df,x='exng',hue='output',fill= True,palette=color_palette)\n",
        "ax2.set_xlabel(\"\")\n",
        "ax2.set_ylabel(\"\")\n",
        "\n",
        "# Caa count\n",
        "ax3.text(-1.0, 150, 'Caa: number of major vessels (0-3)', fontsize=15, fontweight='bold', fontfamily='serif', color=\"#000000\")\n",
        "ax3.grid(color='#000000', linestyle=':', axis='y', zorder=0,  dashes=(1,5))\n",
        "sns.countplot(ax=ax3,data=df,x='caa',hue='output',fill= True,palette=color_palette)\n",
        "ax3.set_xlabel(\"\")\n",
        "ax3.set_ylabel(\"\")\n",
        "\n",
        "# Cp count,\n",
        "ax4.text(-0.8, 120, 'Cp: Chest Pain type chest pain type(1-4)', fontsize=15, fontweight='bold', fontfamily='serif', color=\"#000000\")\n",
        "ax4.grid(color='#000000', linestyle=':', axis='y', zorder=0,  dashes=(1,5))\n",
        "sns.countplot(ax=ax4,data=df,x='cp',hue='output',fill= True,palette=color_palette)\n",
        "ax4.set_xlabel(\"\")\n",
        "ax4.set_ylabel(\"\")\n",
        "\n",
        "# Fbs count\n",
        "ax5.text(-0.8, 165, 'Fbs: (fasting blood sugar > 120 mg/dl) (1 = true; 0 = false)', fontsize=15, fontweight='bold', fontfamily='serif', color=\"#000000\")\n",
        "ax5.grid(color='#000000', linestyle=':', axis='y', zorder=0,  dashes=(1,5))\n",
        "sns.countplot(ax=ax5,data=df,x='fbs',hue='output',fill= True,palette=color_palette)\n",
        "ax5.set_xlabel(\"\")\n",
        "ax5.set_ylabel(\"\")\n",
        "\n",
        "# Restecg count\n",
        "ax6.text(-1.0, 110, 're: resting electrocardiographic results(0-2)', fontsize=15, fontweight='bold', fontfamily='serif', color=\"#000000\")\n",
        "ax6.grid(color='#000000', linestyle=':', axis='y', zorder=0,  dashes=(1,5))\n",
        "sns.countplot(ax=ax6,data=df,x='restecg',hue='output',fill= True,palette=color_palette)\n",
        "ax6.set_xlabel(\"\")\n",
        "ax6.set_ylabel(\"\")\n",
        "\n",
        "# Slp count\n",
        "ax7.text(0.85, 120, 'Slp: Slope', fontsize=15, fontweight='bold', fontfamily='serif', color=\"#000000\")\n",
        "ax7.grid(color='#000000', linestyle=':', axis='y', zorder=0,  dashes=(1,5))\n",
        "sns.countplot(ax=ax7,data=df,x='slp',hue='output',fill= True,palette=color_palette)\n",
        "ax7.set_xlabel(\"\")\n",
        "ax7.set_ylabel(\"\")\n",
        "\n",
        "# Thall count\n",
        "ax8.text(-0.6, 150, 'Thall: Thalium Stress Test result ~ (0,3)', fontsize=15, fontweight='bold', fontfamily='serif', color=\"#000000\")\n",
        "ax8.grid(color='#000000', linestyle=':', axis='y', zorder=0,  dashes=(1,5))\n",
        "sns.countplot(ax=ax8,data=df,x='thall',hue='output',fill= True,palette=color_palette)\n",
        "ax8.set_xlabel(\"\")\n",
        "ax8.set_ylabel(\"\")\n",
        "\n",
        "for s in [\"top\",\"right\",\"left\"]:\n",
        "    ax0.spines[s].set_visible(False)\n",
        "    ax1.spines[s].set_visible(False)\n",
        "    ax2.spines[s].set_visible(False)\n",
        "    ax3.spines[s].set_visible(False)\n",
        "    ax4.spines[s].set_visible(False)\n",
        "    ax5.spines[s].set_visible(False)\n",
        "    ax6.spines[s].set_visible(False)\n",
        "    ax7.spines[s].set_visible(False)\n",
        "    ax8.spines[s].set_visible(False)"
      ],
      "metadata": {
        "colab": {
          "base_uri": "https://localhost:8080/",
          "height": 795
        },
        "id": "C3rw-Kv9gOh7",
        "outputId": "51b578d2-f234-4649-b01b-1ff9efc465e4"
      },
      "execution_count": null,
      "outputs": [
        {
          "output_type": "display_data",
          "data": {
            "text/plain": [
              "<Figure size 1440x1080 with 9 Axes>"
            ],
            "image/png": "[encoded data removed]"
          },
          "metadata": {}
        }
      ]
    },
    {
      "cell_type": "markdown",
      "source": [
        "People with sex = 1 (Male) have higher chance of heart attack.  \n",
        "\n",
        "People with no exercise induced angina, that is with exng = 0 have higher chance of heart attack.\n",
        "\n",
        "People with 0 major vessels, that is with caa = 0 have high chance of heart attack. \n",
        "\n",
        "The cp plot tells about the following, people with Non-Anginal chest pain, that is with cp = 2 have higher chances of heart attack.  \n",
        "\n",
        "The fbs plot indicates that people with fasting blood sugar < 120 mg/dl are more likely to get heart attack.\n",
        "\n",
        "The Slp graph shows that when slope=2, the chance of heart disease is higher\n",
        "\n",
        "People with thall = 2 have much higher chance of \n",
        "heart attack.  \n"
      ],
      "metadata": {
        "id": "vxam8C_qwuHO"
      }
    },
    {
      "cell_type": "code",
      "source": [
        "fig = plt.figure(figsize=(15,8))\n",
        "gs = fig.add_gridspec(1,2)\n",
        "gs.update(wspace=0.2, hspace=0.15)\n",
        "ax0 = fig.add_subplot(gs[0,0])\n",
        "ax1 = fig.add_subplot(gs[0,1])\n",
        "\n",
        "background_color = \"#FFFFFF\"\n",
        "color_palette = [\"#800000\",\"#9370DB\",\"#6aac90\",\"#4169E1\",\"#da8829\"]\n",
        "fig.patch.set_facecolor(background_color) \n",
        "ax0.set_facecolor(background_color) \n",
        "ax1.set_facecolor(background_color) \n",
        "\n",
        "# Title of the plot\n",
        "ax0.text(0.5,0.5,\"Count of the target\\n___________\",\n",
        "        horizontalalignment = 'center',\n",
        "        verticalalignment = 'center',\n",
        "        fontsize = 18,\n",
        "        fontweight='bold',\n",
        "        fontfamily='serif',\n",
        "        color='#000000')\n",
        "\n",
        "ax0.set_xticklabels([])\n",
        "ax0.set_yticklabels([])\n",
        "ax0.tick_params(left=False, bottom=False)\n",
        "# Target Count\n",
        "ax1.text(0.35,177,\"Output\",fontsize=14, fontweight='bold', fontfamily='serif', color=\"#000000\")\n",
        "ax1.grid(color='#000000', linestyle=':', axis='y', zorder=0,  dashes=(1,5))\n",
        "sns.countplot(ax=ax1, data=df, x = 'output',palette = color_palette)\n",
        "ax1.set_xlabel(\"\")\n",
        "ax1.set_ylabel(\"\")\n",
        "ax1.set_xticklabels([\"Low chances of attack(0)\",\"High chances of attack(1)\"])\n",
        "\n",
        "ax0.spines[\"top\"].set_visible(False)\n",
        "ax0.spines[\"left\"].set_visible(False)\n",
        "ax0.spines[\"bottom\"].set_visible(False)\n",
        "ax0.spines[\"right\"].set_visible(False)\n",
        "ax1.spines[\"top\"].set_visible(False)\n",
        "ax1.spines[\"left\"].set_visible(False)\n",
        "ax1.spines[\"right\"].set_visible(False)"
      ],
      "metadata": {
        "colab": {
          "base_uri": "https://localhost:8080/",
          "height": 503
        },
        "id": "GDgfBZ6b-ML2",
        "outputId": "08140697-4b3f-4d44-8f34-965ea19ea4e9"
      },
      "execution_count": null,
      "outputs": [
        {
          "output_type": "display_data",
          "data": {
            "text/plain": [
              "<Figure size 1080x576 with 2 Axes>"
            ],
            "image/png": "[encoded data removed]"
          },
          "metadata": {}
        }
      ]
    },
    {
      "cell_type": "code",
      "source": [
        "df_corr()"
      ],
      "metadata": {
        "colab": {
          "base_uri": "https://localhost:8080/",
          "height": 165
        },
        "id": "rLpiSx8Gnw7S",
        "outputId": "e689eb90-335d-4810-c2c1-94421c41e5b4"
      },
      "execution_count": null,
      "outputs": [
        {
          "output_type": "error",
          "ename": "NameError",
          "evalue": "ignored",
          "traceback": [
            "\u001b[0;31m---------------------------------------------------------------------------\u001b[0m",
            "\u001b[0;31mNameError\u001b[0m                                 Traceback (most recent call last)",
            "\u001b[0;32m<ipython-input-31-044fa265cb24>\u001b[0m in \u001b[0;36m<module>\u001b[0;34m\u001b[0m\n\u001b[0;32m----> 1\u001b[0;31m \u001b[0mdf_corr\u001b[0m\u001b[0;34m(\u001b[0m\u001b[0;34m)\u001b[0m\u001b[0;34m\u001b[0m\u001b[0;34m\u001b[0m\u001b[0m\n\u001b[0m",
            "\u001b[0;31mNameError\u001b[0m: name 'df_corr' is not defined"
          ]
        }
      ]
    },
    {
      "cell_type": "code",
      "source": [
        "fig = plt.figure(figsize=(15,8))\n",
        "gs = fig.add_gridspec(1,1)\n",
        "gs.update(wspace=0.3, hspace=0.15)\n",
        "ax0 = fig.add_subplot(gs[0,0])\n",
        "\n",
        "#color_palette = [\"#5833ff\",\"#da8829\"]\n",
        "mask = np.triu(np.ones_like(df_corr))\n",
        "ax0.text(1.5,-0.1,\"Correlation Matrix\",fontsize=22, fontweight='bold', fontfamily='serif', color=\"#000000\")\n",
        "df_corr = df[con_cols].corr().transpose()\n",
        "sns.heatmap(df_corr,mask=mask,fmt=\".1f\",annot=True,cmap='YlGnBu')\n",
        "plt.show()"
      ],
      "metadata": {
        "colab": {
          "base_uri": "https://localhost:8080/",
          "height": 705
        },
        "id": "oXJ-thJSndCQ",
        "outputId": "2cca7ad7-26bd-416f-822d-7874d0d5ff7f"
      },
      "execution_count": null,
      "outputs": [
        {
          "output_type": "error",
          "ename": "NameError",
          "evalue": "ignored",
          "traceback": [
            "\u001b[0;31m---------------------------------------------------------------------------\u001b[0m",
            "\u001b[0;31mNameError\u001b[0m                                 Traceback (most recent call last)",
            "\u001b[0;32m<ipython-input-29-8105cc855a48>\u001b[0m in \u001b[0;36m<module>\u001b[0;34m\u001b[0m\n\u001b[1;32m      5\u001b[0m \u001b[0;34m\u001b[0m\u001b[0m\n\u001b[1;32m      6\u001b[0m \u001b[0;31m#color_palette = [\"#5833ff\",\"#da8829\"]\u001b[0m\u001b[0;34m\u001b[0m\u001b[0;34m\u001b[0m\u001b[0;34m\u001b[0m\u001b[0m\n\u001b[0;32m----> 7\u001b[0;31m \u001b[0mmask\u001b[0m \u001b[0;34m=\u001b[0m \u001b[0mnp\u001b[0m\u001b[0;34m.\u001b[0m\u001b[0mtriu\u001b[0m\u001b[0;34m(\u001b[0m\u001b[0mnp\u001b[0m\u001b[0;34m.\u001b[0m\u001b[0mones_like\u001b[0m\u001b[0;34m(\u001b[0m\u001b[0mdf_corr\u001b[0m\u001b[0;34m)\u001b[0m\u001b[0;34m)\u001b[0m\u001b[0;34m\u001b[0m\u001b[0;34m\u001b[0m\u001b[0m\n\u001b[0m\u001b[1;32m      8\u001b[0m \u001b[0max0\u001b[0m\u001b[0;34m.\u001b[0m\u001b[0mtext\u001b[0m\u001b[0;34m(\u001b[0m\u001b[0;36m1.5\u001b[0m\u001b[0;34m,\u001b[0m\u001b[0;34m-\u001b[0m\u001b[0;36m0.1\u001b[0m\u001b[0;34m,\u001b[0m\u001b[0;34m\"Correlation Matrix\"\u001b[0m\u001b[0;34m,\u001b[0m\u001b[0mfontsize\u001b[0m\u001b[0;34m=\u001b[0m\u001b[0;36m22\u001b[0m\u001b[0;34m,\u001b[0m \u001b[0mfontweight\u001b[0m\u001b[0;34m=\u001b[0m\u001b[0;34m'bold'\u001b[0m\u001b[0;34m,\u001b[0m \u001b[0mfontfamily\u001b[0m\u001b[0;34m=\u001b[0m\u001b[0;34m'serif'\u001b[0m\u001b[0;34m,\u001b[0m \u001b[0mcolor\u001b[0m\u001b[0;34m=\u001b[0m\u001b[0;34m\"#000000\"\u001b[0m\u001b[0;34m)\u001b[0m\u001b[0;34m\u001b[0m\u001b[0;34m\u001b[0m\u001b[0m\n\u001b[1;32m      9\u001b[0m \u001b[0mdf_corr\u001b[0m \u001b[0;34m=\u001b[0m \u001b[0mdf\u001b[0m\u001b[0;34m[\u001b[0m\u001b[0mcon_cols\u001b[0m\u001b[0;34m]\u001b[0m\u001b[0;34m.\u001b[0m\u001b[0mcorr\u001b[0m\u001b[0;34m(\u001b[0m\u001b[0;34m)\u001b[0m\u001b[0;34m.\u001b[0m\u001b[0mtranspose\u001b[0m\u001b[0;34m(\u001b[0m\u001b[0;34m)\u001b[0m\u001b[0;34m\u001b[0m\u001b[0;34m\u001b[0m\u001b[0m\n",
            "\u001b[0;31mNameError\u001b[0m: name 'df_corr' is not defined"
          ]
        },
        {
          "output_type": "display_data",
          "data": {
            "text/plain": [
              "<Figure size 1080x576 with 1 Axes>"
            ],
            "image/png": "[encoded data removed]"
          },
          "metadata": {}
        }
      ]
    },
    {
      "cell_type": "markdown",
      "source": [
        "There is no apparent linear correlation between continuous variable according to the heatmap."
      ],
      "metadata": {
        "id": "AXrlvZ3QtUBl"
      }
    },
    {
      "cell_type": "code",
      "source": [
        "fig = plt.figure(figsize=(12,12))\n",
        "corr_mat = df.corr().stack().reset_index(name=\"correlation\")\n",
        "g = sns.relplot(\n",
        "    data=corr_mat,\n",
        "    x=\"level_0\", y=\"level_1\", hue=\"correlation\", size=\"correlation\",\n",
        "    palette=\"Paired_r\", hue_norm=(-1, 1), edgecolor=\".7\",\n",
        "    height=10, sizes=(50, 250), size_norm=(-.2, .8),\n",
        ")\n",
        "g.set(xlabel=\"features on X\", ylabel=\"featurs on Y\", aspect=\"equal\")\n",
        "g.fig.suptitle('Scatterplot heatmap',fontsize=22, fontweight='bold', fontfamily='serif', color=\"#000000\")\n",
        "g.despine(left=True, bottom=True)\n",
        "g.ax.margins(.02)\n",
        "for label in g.ax.get_xticklabels():\n",
        "    label.set_rotation(90)\n",
        "for artist in g.legend.legendHandles:\n",
        "    artist.set_edgecolor(\".7\")\n",
        "plt.show()"
      ],
      "metadata": {
        "colab": {
          "base_uri": "https://localhost:8080/",
          "height": 758
        },
        "id": "L-aubAKcvgUp",
        "outputId": "72c27dfd-e758-4fe0-f476-b556ea951c9e"
      },
      "execution_count": null,
      "outputs": [
        {
          "output_type": "display_data",
          "data": {
            "text/plain": [
              "<Figure size 864x864 with 0 Axes>"
            ]
          },
          "metadata": {}
        },
        {
          "output_type": "display_data",
          "data": {
            "text/plain": [
              "<Figure size 781.625x720 with 1 Axes>"
            ],
            "image/png": "[encoded data removed]"
          },
          "metadata": {}
        }
      ]
    },
    {
      "cell_type": "markdown",
      "source": [
        "The scatterplot heatmap matrix suggests that there might be some correlation between output and cp, thalachh and slp. "
      ],
      "metadata": {
        "id": "Kea-GwKgvjcU"
      }
    },
    {
      "cell_type": "markdown",
      "source": [
        "## Machine Learning Model\n",
        "In this project, we are going to perform correlation analysis on data features to predict whether a person is vulnerable to heart attack."
      ],
      "metadata": {
        "id": "7Vjx0U7mvXez"
      }
    },
    {
      "cell_type": "code",
      "source": [
        "import pandas as pd\n",
        "import numpy as np\n",
        "import matplotlib.pyplot as plt\n",
        "import seaborn as sns\n",
        "\n",
        "\n",
        "import warnings\n",
        "warnings.filterwarnings(\"ignore\")\n",
        "\n",
        "df = pd.read_csv('heart.csv')\n",
        "df.head()"
      ],
      "metadata": {
        "id": "7TX_2OjKYlg8",
        "colab": {
          "base_uri": "https://localhost:8080/",
          "height": 206
        },
        "outputId": "128171a3-af0f-46df-8862-8da6fefb7cc5"
      },
      "execution_count": null,
      "outputs": [
        {
          "output_type": "execute_result",
          "data": {
            "text/plain": [
              "   age  sex  cp  trtbps  chol  fbs  restecg  thalachh  exng  oldpeak  slp  \\\n",
              "0   63    1   3     145   233    1        0       150     0      2.3    0   \n",
              "1   37    1   2     130   250    0        1       187     0      3.5    0   \n",
              "2   41    0   1     130   204    0        0       172     0      1.4    2   \n",
              "3   56    1   1     120   236    0        1       178     0      0.8    2   \n",
              "4   57    0   0     120   354    0        1       163     1      0.6    2   \n",
              "\n",
              "   caa  thall  output  \n",
              "0    0      1       1  \n",
              "1    0      2       1  \n",
              "2    0      2       1  \n",
              "3    0      2       1  \n",
              "4    0      2       1  "
            ],
            "text/html": [
              "\n",
              "  <div id=\"df-a3d6ecf0-509f-4bc1-907e-c2e7f2bfe60d\">\n",
              "    <div class=\"colab-df-container\">\n",
              "      <div>\n",
              "<style scoped>\n",
              "    .dataframe tbody tr th:only-of-type {\n",
              "        vertical-align: middle;\n",
              "    }\n",
              "\n",
              "    .dataframe tbody tr th {\n",
              "        vertical-align: top;\n",
              "    }\n",
              "\n",
              "    .dataframe thead th {\n",
              "        text-align: right;\n",
              "    }\n",
              "</style>\n",
              "<table border=\"1\" class=\"dataframe\">\n",
              "  <thead>\n",
              "    <tr style=\"text-align: right;\">\n",
              "      <th></th>\n",
              "      <th>age</th>\n",
              "      <th>sex</th>\n",
              "      <th>cp</th>\n",
              "      <th>trtbps</th>\n",
              "      <th>chol</th>\n",
              "      <th>fbs</th>\n",
              "      <th>restecg</th>\n",
              "      <th>thalachh</th>\n",
              "      <th>exng</th>\n",
              "      <th>oldpeak</th>\n",
              "      <th>slp</th>\n",
              "      <th>caa</th>\n",
              "      <th>thall</th>\n",
              "      <th>output</th>\n",
              "    </tr>\n",
              "  </thead>\n",
              "  <tbody>\n",
              "    <tr>\n",
              "      <th>0</th>\n",
              "      <td>63</td>\n",
              "      <td>1</td>\n",
              "      <td>3</td>\n",
              "      <td>145</td>\n",
              "      <td>233</td>\n",
              "      <td>1</td>\n",
              "      <td>0</td>\n",
              "      <td>150</td>\n",
              "      <td>0</td>\n",
              "      <td>2.3</td>\n",
              "      <td>0</td>\n",
              "      <td>0</td>\n",
              "      <td>1</td>\n",
              "      <td>1</td>\n",
              "    </tr>\n",
              "    <tr>\n",
              "      <th>1</th>\n",
              "      <td>37</td>\n",
              "      <td>1</td>\n",
              "      <td>2</td>\n",
              "      <td>130</td>\n",
              "      <td>250</td>\n",
              "      <td>0</td>\n",
              "      <td>1</td>\n",
              "      <td>187</td>\n",
              "      <td>0</td>\n",
              "      <td>3.5</td>\n",
              "      <td>0</td>\n",
              "      <td>0</td>\n",
              "      <td>2</td>\n",
              "      <td>1</td>\n",
              "    </tr>\n",
              "    <tr>\n",
              "      <th>2</th>\n",
              "      <td>41</td>\n",
              "      <td>0</td>\n",
              "      <td>1</td>\n",
              "      <td>130</td>\n",
              "      <td>204</td>\n",
              "      <td>0</td>\n",
              "      <td>0</td>\n",
              "      <td>172</td>\n",
              "      <td>0</td>\n",
              "      <td>1.4</td>\n",
              "      <td>2</td>\n",
              "      <td>0</td>\n",
              "      <td>2</td>\n",
              "      <td>1</td>\n",
              "    </tr>\n",
              "    <tr>\n",
              "      <th>3</th>\n",
              "      <td>56</td>\n",
              "      <td>1</td>\n",
              "      <td>1</td>\n",
              "      <td>120</td>\n",
              "      <td>236</td>\n",
              "      <td>0</td>\n",
              "      <td>1</td>\n",
              "      <td>178</td>\n",
              "      <td>0</td>\n",
              "      <td>0.8</td>\n",
              "      <td>2</td>\n",
              "      <td>0</td>\n",
              "      <td>2</td>\n",
              "      <td>1</td>\n",
              "    </tr>\n",
              "    <tr>\n",
              "      <th>4</th>\n",
              "      <td>57</td>\n",
              "      <td>0</td>\n",
              "      <td>0</td>\n",
              "      <td>120</td>\n",
              "      <td>354</td>\n",
              "      <td>0</td>\n",
              "      <td>1</td>\n",
              "      <td>163</td>\n",
              "      <td>1</td>\n",
              "      <td>0.6</td>\n",
              "      <td>2</td>\n",
              "      <td>0</td>\n",
              "      <td>2</td>\n",
              "      <td>1</td>\n",
              "    </tr>\n",
              "  </tbody>\n",
              "</table>\n",
              "</div>\n",
              "      <button class=\"colab-df-convert\" onclick=\"convertToInteractive('df-a3d6ecf0-509f-4bc1-907e-c2e7f2bfe60d')\"\n",
              "              title=\"Convert this dataframe to an interactive table.\"\n",
              "              style=\"display:none;\">\n",
              "        \n",
              "  <svg xmlns=\"http://www.w3.org/2000/svg\" height=\"24px\"viewBox=\"0 0 24 24\"\n",
              "       width=\"24px\">\n",
              "    <path d=\"M0 0h24v24H0V0z\" fill=\"none\"/>\n",
              "    <path d=\"M18.56 5.44l.94 2.06.94-2.06 2.06-.94-2.06-.94-.94-2.06-.94 2.06-2.06.94zm-11 1L8.5 8.5l.94-2.06 2.06-.94-2.06-.94L8.5 2.5l-.94 2.06-2.06.94zm10 10l.94 2.06.94-2.06 2.06-.94-2.06-.94-.94-2.06-.94 2.06-2.06.94z\"/><path d=\"M17.41 7.96l-1.37-1.37c-.4-.4-.92-.59-1.43-.59-.52 0-1.04.2-1.43.59L10.3 9.45l-7.72 7.72c-.78.78-.78 2.05 0 2.83L4 21.41c.39.39.9.59 1.41.59.51 0 1.02-.2 1.41-.59l7.78-7.78 2.81-2.81c.8-.78.8-2.07 0-2.86zM5.41 20L4 18.59l7.72-7.72 1.47 1.35L5.41 20z\"/>\n",
              "  </svg>\n",
              "      </button>\n",
              "      \n",
              "  <style>\n",
              "    .colab-df-container {\n",
              "      display:flex;\n",
              "      flex-wrap:wrap;\n",
              "      gap: 12px;\n",
              "    }\n",
              "\n",
              "    .colab-df-convert {\n",
              "      background-color: #E8F0FE;\n",
              "      border: none;\n",
              "      border-radius: 50%;\n",
              "      cursor: pointer;\n",
              "      display: none;\n",
              "      fill: #1967D2;\n",
              "      height: 32px;\n",
              "      padding: 0 0 0 0;\n",
              "      width: 32px;\n",
              "    }\n",
              "\n",
              "    .colab-df-convert:hover {\n",
              "      background-color: #E2EBFA;\n",
              "      box-shadow: 0px 1px 2px rgba(60, 64, 67, 0.3), 0px 1px 3px 1px rgba(60, 64, 67, 0.15);\n",
              "      fill: #174EA6;\n",
              "    }\n",
              "\n",
              "    [theme=dark] .colab-df-convert {\n",
              "      background-color: #3B4455;\n",
              "      fill: #D2E3FC;\n",
              "    }\n",
              "\n",
              "    [theme=dark] .colab-df-convert:hover {\n",
              "      background-color: #434B5C;\n",
              "      box-shadow: 0px 1px 3px 1px rgba(0, 0, 0, 0.15);\n",
              "      filter: drop-shadow(0px 1px 2px rgba(0, 0, 0, 0.3));\n",
              "      fill: #FFFFFF;\n",
              "    }\n",
              "  </style>\n",
              "\n",
              "      <script>\n",
              "        const buttonEl =\n",
              "          document.querySelector('#df-a3d6ecf0-509f-4bc1-907e-c2e7f2bfe60d button.colab-df-convert');\n",
              "        buttonEl.style.display =\n",
              "          google.colab.kernel.accessAllowed ? 'block' : 'none';\n",
              "\n",
              "        async function convertToInteractive(key) {\n",
              "          const element = document.querySelector('#df-a3d6ecf0-509f-4bc1-907e-c2e7f2bfe60d');\n",
              "          const dataTable =\n",
              "            await google.colab.kernel.invokeFunction('convertToInteractive',\n",
              "                                                     [key], {});\n",
              "          if (!dataTable) return;\n",
              "\n",
              "          const docLinkHtml = 'Like what you see? Visit the ' +\n",
              "            '<a target=\"_blank\" href=https://colab.research.google.com/notebooks/data_table.ipynb>data table notebook</a>'\n",
              "            + ' to learn more about interactive tables.';\n",
              "          element.innerHTML = '';\n",
              "          dataTable['output_type'] = 'display_data';\n",
              "          await google.colab.output.renderOutput(dataTable, element);\n",
              "          const docLink = document.createElement('div');\n",
              "          docLink.innerHTML = docLinkHtml;\n",
              "          element.appendChild(docLink);\n",
              "        }\n",
              "      </script>\n",
              "    </div>\n",
              "  </div>\n",
              "  "
            ]
          },
          "metadata": {},
          "execution_count": 7
        }
      ]
    },
    {
      "cell_type": "code",
      "source": [
        "# Scaling\n",
        "from sklearn.preprocessing import RobustScaler\n",
        "\n",
        "# Train Test Split\n",
        "from sklearn.model_selection import train_test_split\n",
        "\n",
        "# Models\n",
        "import torch\n",
        "import torch.nn as nn\n",
        "from sklearn.svm import SVC\n",
        "from sklearn.linear_model import LogisticRegression\n",
        "from sklearn.ensemble import RandomForestClassifier\n",
        "from sklearn.tree import DecisionTreeClassifier\n",
        "from sklearn.ensemble import GradientBoostingClassifier\n",
        "from sklearn.neighbors import KNeighborsClassifier\n",
        "\n",
        "# Metrics\n",
        "from sklearn.metrics import accuracy_score, classification_report, roc_curve\n",
        "\n",
        "# Cross Validation\n",
        "from sklearn.model_selection import cross_val_score\n",
        "from sklearn.model_selection import GridSearchCV\n",
        "from sklearn.naive_bayes import GaussianNB\n",
        "from sklearn.naive_bayes import BernoulliNB\n",
        "from xgboost import XGBClassifier\n",
        "\n",
        "\n",
        "\n",
        "from sklearn.feature_selection import RFE\n",
        "from sklearn.feature_selection import SelectKBest, mutual_info_classif\n",
        "from sklearn.inspection import permutation_importance\n",
        "from sklearn.metrics import accuracy_score\n"
      ],
      "metadata": {
        "id": "4qG04zIYYleV"
      },
      "execution_count": null,
      "outputs": []
    },
    {
      "cell_type": "markdown",
      "source": [
        "* We defines two lists of columns, \"cat_cols\" and \"con_cols\", which represent the categorical and continuous columns in the dataset respectively.\n",
        "\n",
        "* Use the \"pd.get_dummies\" function to one-hot encode the categorical columns in the \"df1\" dataframe, using the \"cat_cols\" list as the input. The \"drop_first\" parameter is set to True, which drops the first level of each categorical variable to avoid multi-collinearity.\n",
        "\n",
        "* We also use the \"RobustScaler\" to scale continuous variables in the dataset which is important for the better performance of the model.\n",
        "\n",
        "* And as for the test and train data. We sets the test with size of 0.2."
      ],
      "metadata": {
        "id": "ZlsZzuJRsXUW"
      }
    },
    {
      "cell_type": "code",
      "source": [
        "# creating a copy of df\n",
        "df1 = df\n",
        "\n",
        "# define the columns to be encoded and scaled\n",
        "cat_cols = ['sex','exng','caa','cp','fbs','restecg','slp','thall']\n",
        "con_cols = [\"age\",\"trtbps\",\"chol\",\"thalachh\",\"oldpeak\"]\n",
        "\n",
        "# encoding the categorical columns\n",
        "df1 = pd.get_dummies(df1, columns = cat_cols, drop_first = True)\n",
        "\n",
        "# defining the features and target\n",
        "X = df1.drop(['output'],axis=1)\n",
        "y = df1[['output']]\n",
        "\n",
        "# instantiating the scaler\n",
        "scaler = RobustScaler()\n",
        "\n",
        "# scaling the continuous featuree\n",
        "X[con_cols] = scaler.fit_transform(X[con_cols])\n",
        "print(\"The first 5 rows of X are\")"
      ],
      "metadata": {
        "colab": {
          "base_uri": "https://localhost:8080/"
        },
        "id": "ZBExrnnX814g",
        "outputId": "32f33dd9-9e94-4ddb-a837-015bb167b58f"
      },
      "execution_count": null,
      "outputs": [
        {
          "output_type": "stream",
          "name": "stdout",
          "text": [
            "The first 5 rows of X are\n"
          ]
        }
      ]
    },
    {
      "cell_type": "code",
      "source": [
        "X_train, X_test, y_train, y_test = train_test_split(X,y, test_size = 0.2, random_state = 42)\n",
        "print(\"The shape of X_train is      \", X_train.shape)\n",
        "print(\"The shape of X_test is       \",X_test.shape)\n",
        "print(\"The shape of y_train is      \",y_train.shape)\n",
        "print(\"The shape of y_test is       \",y_test.shape)"
      ],
      "metadata": {
        "colab": {
          "base_uri": "https://localhost:8080/"
        },
        "id": "bk6Cw5w885WC",
        "outputId": "6bb0a68d-cbdd-4433-ecbf-cbbd7499913f"
      },
      "execution_count": null,
      "outputs": [
        {
          "output_type": "stream",
          "name": "stdout",
          "text": [
            "The shape of X_train is       (242, 22)\n",
            "The shape of X_test is        (61, 22)\n",
            "The shape of y_train is       (242, 1)\n",
            "The shape of y_test is        (61, 1)\n"
          ]
        }
      ]
    },
    {
      "cell_type": "code",
      "source": [
        "result = []"
      ],
      "metadata": {
        "id": "ut5GMC5I88p_"
      },
      "execution_count": null,
      "outputs": []
    },
    {
      "cell_type": "markdown",
      "source": [
        "## We selected nine models for training, visualized and compared the results"
      ],
      "metadata": {
        "id": "cXs64JWnsw9u"
      }
    },
    {
      "cell_type": "markdown",
      "source": [
        "SVC"
      ],
      "metadata": {
        "id": "C_ksEWGl9JmN"
      }
    },
    {
      "cell_type": "markdown",
      "source": [
        "#Support Vector Machines\n"
      ],
      "metadata": {
        "id": "M1Uztint8-w1"
      }
    },
    {
      "cell_type": "code",
      "source": [
        "# instantiating the object and fitting\n",
        "clf = SVC(kernel='linear', C=1, random_state=42).fit(X_train,y_train)\n",
        "\n",
        "# predicting the values\n",
        "y_pred = clf.predict(X_test)\n",
        "\n",
        "result.append(accuracy_score(y_test, y_pred))\n",
        "# printing the test accuracy\n",
        "print(\"The test accuracy score of SVM is \", accuracy_score(y_test, y_pred))\n",
        "\n",
        "rfe = RFE(clf, n_features_to_select=1)\n",
        "rfe.fit(X_train, y_train)\n",
        "\n",
        "# Plot pixel ranking\n",
        "plt.matshow(ranking, cmap=plt.cm.Blues)\n",
        "plt.colorbar()\n",
        "plt.title(\"Ranking of pixels with RFE\")\n",
        "plt.show()\n",
        "# extract feature importance\n",
        "#importance = rfe.ranking_\n",
        "\n",
        "plt.hist(importance,edgecolor='w')"
      ],
      "metadata": {
        "id": "ZowviDhU_t7N",
        "outputId": "b7c289f7-71da-4363-d209-b99c6633a3a9",
        "colab": {
          "base_uri": "https://localhost:8080/",
          "height": 244
        }
      },
      "execution_count": null,
      "outputs": [
        {
          "output_type": "error",
          "ename": "NameError",
          "evalue": "ignored",
          "traceback": [
            "\u001b[0;31m---------------------------------------------------------------------------\u001b[0m",
            "\u001b[0;31mNameError\u001b[0m                                 Traceback (most recent call last)",
            "\u001b[0;32m<ipython-input-2-4640a7fc5365>\u001b[0m in \u001b[0;36m<module>\u001b[0;34m\u001b[0m\n\u001b[1;32m      1\u001b[0m \u001b[0;31m# instantiating the object and fitting\u001b[0m\u001b[0;34m\u001b[0m\u001b[0;34m\u001b[0m\u001b[0;34m\u001b[0m\u001b[0m\n\u001b[0;32m----> 2\u001b[0;31m \u001b[0mclf\u001b[0m \u001b[0;34m=\u001b[0m \u001b[0mSVC\u001b[0m\u001b[0;34m(\u001b[0m\u001b[0mkernel\u001b[0m\u001b[0;34m=\u001b[0m\u001b[0;34m'linear'\u001b[0m\u001b[0;34m,\u001b[0m \u001b[0mC\u001b[0m\u001b[0;34m=\u001b[0m\u001b[0;36m1\u001b[0m\u001b[0;34m,\u001b[0m \u001b[0mrandom_state\u001b[0m\u001b[0;34m=\u001b[0m\u001b[0;36m42\u001b[0m\u001b[0;34m)\u001b[0m\u001b[0;34m.\u001b[0m\u001b[0mfit\u001b[0m\u001b[0;34m(\u001b[0m\u001b[0mX_train\u001b[0m\u001b[0;34m,\u001b[0m\u001b[0my_train\u001b[0m\u001b[0;34m)\u001b[0m\u001b[0;34m\u001b[0m\u001b[0;34m\u001b[0m\u001b[0m\n\u001b[0m\u001b[1;32m      3\u001b[0m \u001b[0;34m\u001b[0m\u001b[0m\n\u001b[1;32m      4\u001b[0m \u001b[0;31m# predicting the values\u001b[0m\u001b[0;34m\u001b[0m\u001b[0;34m\u001b[0m\u001b[0;34m\u001b[0m\u001b[0m\n\u001b[1;32m      5\u001b[0m \u001b[0my_pred\u001b[0m \u001b[0;34m=\u001b[0m \u001b[0mclf\u001b[0m\u001b[0;34m.\u001b[0m\u001b[0mpredict\u001b[0m\u001b[0;34m(\u001b[0m\u001b[0mX_test\u001b[0m\u001b[0;34m)\u001b[0m\u001b[0;34m\u001b[0m\u001b[0;34m\u001b[0m\u001b[0m\n",
            "\u001b[0;31mNameError\u001b[0m: name 'SVC' is not defined"
          ]
        }
      ]
    },
    {
      "cell_type": "markdown",
      "source": [
        "Logistic Regression"
      ],
      "metadata": {
        "id": "SbnlTwx69SZW"
      }
    },
    {
      "cell_type": "code",
      "source": [
        "# Logistic Regression\n",
        "# instantiating the object\n",
        "logreg = LogisticRegression()\n",
        "\n",
        "# fitting the object\n",
        "logreg.fit(X_train, y_train)\n",
        "\n",
        "# calculating the probabilities\n",
        "y_pred_proba = logreg.predict_proba(X_test)\n",
        "\n",
        "# finding the predicted valued\n",
        "y_pred = np.argmax(y_pred_proba,axis=1)\n",
        "result.append(accuracy_score(y_test, y_pred))\n",
        "\n",
        "# printing the test accuracy\n",
        "print(\"The test accuracy score of Logistric Regression is \", accuracy_score(y_test, y_pred))\n",
        "\n",
        "# extract feature importance\n",
        "importance = logreg.coef_[0]\n",
        "plt.hist(importance,edgecolor='w')"
      ],
      "metadata": {
        "colab": {
          "base_uri": "https://localhost:8080/",
          "height": 374
        },
        "id": "hXFf6TOf9GsP",
        "outputId": "780e7459-4e2f-485a-ead1-ae8440015fc1"
      },
      "execution_count": null,
      "outputs": [
        {
          "output_type": "stream",
          "name": "stdout",
          "text": [
            "The test accuracy score of Logistric Regression is  0.9016393442622951\n"
          ]
        },
        {
          "output_type": "execute_result",
          "data": {
            "text/plain": [
              "(array([2., 0., 2., 3., 2., 2., 4., 5., 0., 2.]),\n",
              " array([-1.85766047, -1.53834801, -1.21903555, -0.8997231 , -0.58041064,\n",
              "        -0.26109818,  0.05821428,  0.37752674,  0.6968392 ,  1.01615166,\n",
              "         1.33546411]),\n",
              " <a list of 10 Patch objects>)"
            ]
          },
          "metadata": {},
          "execution_count": 17
        },
        {
          "output_type": "display_data",
          "data": {
            "text/plain": [
              "<Figure size 432x288 with 1 Axes>"
            ],
            "image/png": "[encoded data removed]"
          },
          "metadata": {
            "needs_background": "light"
          }
        }
      ]
    },
    {
      "cell_type": "markdown",
      "source": [
        "Decision Tree"
      ],
      "metadata": {
        "id": "72MLYGE79dgK"
      }
    },
    {
      "cell_type": "code",
      "source": [
        "# Decision Tree\n",
        "# instantiating the object\n",
        "dt = DecisionTreeClassifier(random_state = 42)\n",
        "\n",
        "# fitting the model\n",
        "dt.fit(X_train, y_train)\n",
        "\n",
        "# calculating the predictions\n",
        "y_pred = dt.predict(X_test)\n",
        "\n",
        "# printing the test accuracy\n",
        "print(\"The test accuracy score of Decision Tree is \", accuracy_score(y_test, y_pred))\n",
        "result.append(accuracy_score(y_test, y_pred))\n",
        "\n",
        "# extract feature importance\n",
        "importance = dt.feature_importances_\n",
        "plt.hist(importance,edgecolor='w')"
      ],
      "metadata": {
        "colab": {
          "base_uri": "https://localhost:8080/",
          "height": 374
        },
        "id": "ve97k4kl9HO6",
        "outputId": "733ff874-0264-455e-8e27-dda841caa9f5"
      },
      "execution_count": null,
      "outputs": [
        {
          "output_type": "stream",
          "name": "stdout",
          "text": [
            "The test accuracy score of Decision Tree is  0.7868852459016393\n"
          ]
        },
        {
          "output_type": "execute_result",
          "data": {
            "text/plain": [
              "(array([10.,  6.,  2.,  2.,  0.,  0.,  1.,  0.,  0.,  1.]),\n",
              " array([0.        , 0.02559866, 0.05119731, 0.07679597, 0.10239462,\n",
              "        0.12799328, 0.15359193, 0.17919059, 0.20478924, 0.2303879 ,\n",
              "        0.25598655]),\n",
              " <a list of 10 Patch objects>)"
            ]
          },
          "metadata": {},
          "execution_count": 18
        },
        {
          "output_type": "display_data",
          "data": {
            "text/plain": [
              "<Figure size 432x288 with 1 Axes>"
            ],
            "image/png": "[encoded data removed]"
          },
          "metadata": {
            "needs_background": "light"
          }
        }
      ]
    },
    {
      "cell_type": "markdown",
      "source": [
        "RandomForest¶"
      ],
      "metadata": {
        "id": "a0dF4ajP9iIa"
      }
    },
    {
      "cell_type": "code",
      "source": [
        "# RandomForest\n",
        "# instantiating the object\n",
        "rf = RandomForestClassifier()\n",
        "\n",
        "# fitting the model\n",
        "rf.fit(X_train, y_train)\n",
        "\n",
        "# calculating the predictions\n",
        "y_pred = rf.predict(X_test)\n",
        "\n",
        "# printing the test accuracy\n",
        "print(\"The test accuracy score of Random Forest is \", accuracy_score(y_test, y_pred))\n",
        "result.append(accuracy_score(y_test, y_pred))\n",
        "feat_importances = pd.Series(rf.feature_importances_,index=X_train.columns).sort_values(ascending=True)\n",
        "plt.hist(feat_importances,edgecolor='w')"
      ],
      "metadata": {
        "colab": {
          "base_uri": "https://localhost:8080/",
          "height": 373
        },
        "id": "4jD_W36p9knK",
        "outputId": "b1f864ce-3014-4004-b667-8770f4ed0ae3"
      },
      "execution_count": null,
      "outputs": [
        {
          "output_type": "stream",
          "name": "stdout",
          "text": [
            "The test accuracy score of Random Forest is  0.819672131147541\n"
          ]
        },
        {
          "output_type": "execute_result",
          "data": {
            "text/plain": [
              "(array([4., 4., 3., 2., 1., 0., 1., 5., 0., 2.]),\n",
              " array([0.00077109, 0.01186176, 0.02295243, 0.0340431 , 0.04513377,\n",
              "        0.05622444, 0.06731511, 0.07840578, 0.08949645, 0.10058712,\n",
              "        0.11167779]),\n",
              " <a list of 10 Patch objects>)"
            ]
          },
          "metadata": {},
          "execution_count": 8
        },
        {
          "output_type": "display_data",
          "data": {
            "text/plain": [
              "<Figure size 432x288 with 1 Axes>"
            ],
            "image/png": "[encoded data removed]"
          },
          "metadata": {
            "needs_background": "light"
          }
        }
      ]
    },
    {
      "cell_type": "markdown",
      "source": [
        "Gradient Boosting Classifie"
      ],
      "metadata": {
        "id": "dZDo3tXY9o7h"
      }
    },
    {
      "cell_type": "code",
      "source": [
        "# Gradient Boosting Classifier - without tuning\n",
        "# instantiate the classifier\n",
        "gbt = GradientBoostingClassifier(n_estimators = 300,max_depth=1,subsample=0.8,max_features=0.2,random_state=42)\n",
        "\n",
        "# fitting the model\n",
        "gbt.fit(X_train,y_train)\n",
        "\n",
        "# predicting values\n",
        "y_pred = gbt.predict(X_test)\n",
        "print(\"The test accuracy score of Gradient Boosting Classifier is \", accuracy_score(y_test, y_pred))\n",
        "result.append(accuracy_score(y_test, y_pred))\n",
        "feat_importances = pd.Series(gbt.feature_importances_,index=X_train.columns).sort_values(ascending=True)\n",
        "plt.hist(feat_importances,edgecolor='w')"
      ],
      "metadata": {
        "colab": {
          "base_uri": "https://localhost:8080/",
          "height": 373
        },
        "id": "0zDA-x2N9rQ8",
        "outputId": "fe864bee-149b-442e-f330-33091f4de82d"
      },
      "execution_count": null,
      "outputs": [
        {
          "output_type": "stream",
          "name": "stdout",
          "text": [
            "The test accuracy score of Gradient Boosting Classifier is  0.8688524590163934\n"
          ]
        },
        {
          "output_type": "execute_result",
          "data": {
            "text/plain": [
              "(array([6., 3., 3., 4., 1., 1., 2., 0., 1., 1.]),\n",
              " array([0.        , 0.01464706, 0.02929412, 0.04394117, 0.05858823,\n",
              "        0.07323529, 0.08788235, 0.10252941, 0.11717647, 0.13182352,\n",
              "        0.14647058]),\n",
              " <a list of 10 Patch objects>)"
            ]
          },
          "metadata": {},
          "execution_count": 9
        },
        {
          "output_type": "display_data",
          "data": {
            "text/plain": [
              "<Figure size 432x288 with 1 Axes>"
            ],
            "image/png": "[encoded data removed]"
          },
          "metadata": {
            "needs_background": "light"
          }
        }
      ]
    },
    {
      "cell_type": "markdown",
      "source": [
        "KNeighbors"
      ],
      "metadata": {
        "id": "txoZaLYt9uFN"
      }
    },
    {
      "cell_type": "code",
      "source": [
        "kc=KNeighborsClassifier()\n",
        "# fitting the model\n",
        "kc.fit(X_train, y_train)\n",
        "\n",
        "# calculating the predictions\n",
        "y_pred = kc.predict(X_test)\n",
        "\n",
        "# printing the test accuracy\n",
        "print(\"The test accuracy score of KNeighbors is \", accuracy_score(y_test, y_pred))\n",
        "result.append(accuracy_score(y_test, y_pred))\n",
        "\n",
        "# perform feature selection\n",
        "selector = SelectKBest(score_func=mutual_info_classif, k=3)\n",
        "X_new = selector.fit_transform(X_train, y_train)\n",
        "\n",
        "# extract feature importance\n",
        "importance = selector.scores_\n",
        "plt.hist(importance,edgecolor='w')"
      ],
      "metadata": {
        "colab": {
          "base_uri": "https://localhost:8080/",
          "height": 374
        },
        "id": "nZCnuwAz9x9j",
        "outputId": "d2e6d9bb-cbca-40f7-d616-b418f60779ed"
      },
      "execution_count": null,
      "outputs": [
        {
          "output_type": "stream",
          "name": "stdout",
          "text": [
            "The test accuracy score of KNeighbors is  0.8688524590163934\n"
          ]
        },
        {
          "output_type": "execute_result",
          "data": {
            "text/plain": [
              "(array([7., 3., 2., 2., 2., 1., 0., 2., 1., 2.]),\n",
              " array([0.        , 0.01366511, 0.02733021, 0.04099532, 0.05466042,\n",
              "        0.06832553, 0.08199064, 0.09565574, 0.10932085, 0.12298596,\n",
              "        0.13665106]),\n",
              " <a list of 10 Patch objects>)"
            ]
          },
          "metadata": {},
          "execution_count": 19
        },
        {
          "output_type": "display_data",
          "data": {
            "text/plain": [
              "<Figure size 432x288 with 1 Axes>"
            ],
            "image/png": "[encoded data removed]"
          },
          "metadata": {
            "needs_background": "light"
          }
        }
      ]
    },
    {
      "cell_type": "markdown",
      "source": [
        "XGB"
      ],
      "metadata": {
        "id": "j9L0WNcG-o6m"
      }
    },
    {
      "cell_type": "code",
      "source": [
        "xgb=XGBClassifier()\n",
        "# fitting the model\n",
        "xgb.fit(X_train, y_train)\n",
        "\n",
        "# calculating the predictions\n",
        "y_pred = xgb.predict(X_test)\n",
        "\n",
        "# printing the test accuracy\n",
        "print(\"The test accuracy score of XGB is \", accuracy_score(y_test, y_pred))\n",
        "result.append(accuracy_score(y_test, y_pred))\n",
        "feat_importances = pd.Series(xgb.feature_importances_,index=X_train.columns).sort_values(ascending=True)\n",
        "plt.hist(feat_importances,edgecolor='w')"
      ],
      "metadata": {
        "colab": {
          "base_uri": "https://localhost:8080/",
          "height": 373
        },
        "id": "6-c4PaQ4-l62",
        "outputId": "a49321e4-deee-4526-fb1c-df68e39cd746"
      },
      "execution_count": null,
      "outputs": [
        {
          "output_type": "stream",
          "name": "stdout",
          "text": [
            "The test accuracy score of XGB is  0.819672131147541\n"
          ]
        },
        {
          "output_type": "execute_result",
          "data": {
            "text/plain": [
              "(array([16.,  4.,  1.,  0.,  0.,  0.,  0.,  0.,  0.,  1.]),\n",
              " array([0.        , 0.04140234, 0.08280469, 0.12420703, 0.16560937,\n",
              "        0.20701171, 0.24841405, 0.2898164 , 0.33121875, 0.3726211 ,\n",
              "        0.41402343], dtype=float32),\n",
              " <a list of 10 Patch objects>)"
            ]
          },
          "metadata": {},
          "execution_count": 7
        },
        {
          "output_type": "display_data",
          "data": {
            "text/plain": [
              "<Figure size 432x288 with 1 Axes>"
            ],
            "image/png": "[encoded data removed]"
          },
          "metadata": {
            "needs_background": "light"
          }
        }
      ]
    },
    {
      "cell_type": "markdown",
      "source": [
        "GaussianNB"
      ],
      "metadata": {
        "id": "kkB7DIJS-rnG"
      }
    },
    {
      "cell_type": "code",
      "source": [
        "g=GaussianNB()\n",
        "# fitting the model\n",
        "g.fit(X_train, y_train)\n",
        "\n",
        "# calculating the predictions\n",
        "y_pred = g.predict(X_test)\n",
        "\n",
        "# printing the test accuracy\n",
        "print(\"The test accuracy score of GaussianNB is \", accuracy_score(y_test, y_pred))\n",
        "result.append(accuracy_score(y_test, y_pred))\n",
        "\n",
        "\n",
        "# calculate permutation importance\n",
        "result = permutation_importance(g, X_test, y_test, n_repeats=10, \n",
        "                                random_state=0, scoring='accuracy')\n",
        "\n",
        "# extract feature importance\n",
        "importance = result.importances_mean\n",
        "plt.hist(importance,edgecolor='w')"
      ],
      "metadata": {
        "colab": {
          "base_uri": "https://localhost:8080/",
          "height": 374
        },
        "id": "PNzGCQt1-ubd",
        "outputId": "8c559193-6fb1-437d-a4e2-2cb989ba9ab8"
      },
      "execution_count": null,
      "outputs": [
        {
          "output_type": "stream",
          "name": "stdout",
          "text": [
            "The test accuracy score of GaussianNB is  0.639344262295082\n"
          ]
        },
        {
          "output_type": "execute_result",
          "data": {
            "text/plain": [
              "(array([1., 2., 2., 5., 3., 1., 5., 1., 1., 1.]),\n",
              " array([-0.02459016, -0.01704918, -0.0095082 , -0.00196721,  0.00557377,\n",
              "         0.01311475,  0.02065574,  0.02819672,  0.0357377 ,  0.04327869,\n",
              "         0.05081967]),\n",
              " <a list of 10 Patch objects>)"
            ]
          },
          "metadata": {},
          "execution_count": 20
        },
        {
          "output_type": "display_data",
          "data": {
            "text/plain": [
              "<Figure size 432x288 with 1 Axes>"
            ],
            "image/png": "[encoded data removed]"
          },
          "metadata": {
            "needs_background": "light"
          }
        }
      ]
    },
    {
      "cell_type": "markdown",
      "source": [
        "BernoulliNB"
      ],
      "metadata": {
        "id": "Y24yPPjC-zsE"
      }
    },
    {
      "cell_type": "code",
      "source": [
        "b=BernoulliNB()\n",
        "# fitting the model\n",
        "b.fit(X_train, y_train)\n",
        "\n",
        "# calculating the predictions\n",
        "y_pred = b.predict(X_test)\n",
        "\n",
        "# printing the test accuracy\n",
        "print(\"The test accuracy score of BernoulliNB is \", accuracy_score(y_test, y_pred))\n",
        "result.append(accuracy_score(y_test, y_pred))\n",
        "\n",
        "\n",
        "result = permutation_importance(b, X_test, y_test, n_repeats=10, \n",
        "                                random_state=0, scoring='accuracy')\n",
        "\n",
        "# extract feature importance\n",
        "importance = result.importances_mean\n",
        "plt.hist(importance,edgecolor='w')"
      ],
      "metadata": {
        "colab": {
          "base_uri": "https://localhost:8080/",
          "height": 374
        },
        "id": "ogFHW3Rb-zMq",
        "outputId": "7c281da9-946c-46c5-e4c9-faccbf0a635d"
      },
      "execution_count": null,
      "outputs": [
        {
          "output_type": "stream",
          "name": "stdout",
          "text": [
            "The test accuracy score of BernoulliNB is  0.8524590163934426\n"
          ]
        },
        {
          "output_type": "execute_result",
          "data": {
            "text/plain": [
              "(array([1., 0., 2., 0., 1., 9., 2., 4., 1., 2.]),\n",
              " array([-1.63934426e-02, -1.31147541e-02, -9.83606557e-03, -6.55737705e-03,\n",
              "        -3.27868852e-03, -3.81639165e-17,  3.27868852e-03,  6.55737705e-03,\n",
              "         9.83606557e-03,  1.31147541e-02,  1.63934426e-02]),\n",
              " <a list of 10 Patch objects>)"
            ]
          },
          "metadata": {},
          "execution_count": 23
        },
        {
          "output_type": "display_data",
          "data": {
            "text/plain": [
              "<Figure size 432x288 with 1 Axes>"
            ],
            "image/png": "[encoded data removed]"
          },
          "metadata": {
            "needs_background": "light"
          }
        }
      ]
    },
    {
      "cell_type": "code",
      "source": [
        "result"
      ],
      "metadata": {
        "id": "SEjLvWyH_qte",
        "outputId": "c51f3b20-eccf-4fef-b6e5-e10da252f0c6",
        "colab": {
          "base_uri": "https://localhost:8080/"
        }
      },
      "execution_count": null,
      "outputs": [
        {
          "output_type": "execute_result",
          "data": {
            "text/plain": [
              "[0.8688524590163934,\n",
              " 0.9016393442622951,\n",
              " 0.7868852459016393,\n",
              " 0.8524590163934426,\n",
              " 0.8688524590163934,\n",
              " 0.8688524590163934,\n",
              " 0.819672131147541,\n",
              " 0.639344262295082,\n",
              " 0.8524590163934426]"
            ]
          },
          "metadata": {},
          "execution_count": 62
        }
      ]
    },
    {
      "cell_type": "code",
      "source": [
        "results = pd.DataFrame({\"Cross Validation Means\":result, \"ML Models\":[\"SVM\",\"LogisticRegression\",\"DecisionTreeClassifier\", \"RandomForestClassifier\",\n",
        "                     \"Gradient Boosting\",\"KNeighborsClassifier\",\"XGB\",\"GaussianNB\",\"BernoulliNB\"]})\n",
        "\n",
        "g = sns.barplot(\"Cross Validation Means\", \"ML Models\", data = results)\n",
        "g.set_xlabel(\"Mean Accuracy\")\n",
        "g.set_title(\"Cross Validation Scores\")\n",
        "plt.show()"
      ],
      "metadata": {
        "colab": {
          "base_uri": "https://localhost:8080/",
          "height": 299
        },
        "id": "CyYXnDCT_i8z",
        "outputId": "99b0e8b2-445b-4217-bc95-fce31c981eef"
      },
      "execution_count": null,
      "outputs": [
        {
          "output_type": "display_data",
          "data": {
            "text/plain": [
              "<Figure size 432x288 with 1 Axes>"
            ],
            "image/png": "[encoded data removed]"
          },
          "metadata": {}
        }
      ]
    },
    {
      "cell_type": "code",
      "source": [
        "from sklearn.ensemble import VotingClassifier\n",
        "\n",
        "clf = SVC(kernel='linear', C=1, random_state=103)\n",
        "logreg = LogisticRegression()\n",
        "rf = RandomForestClassifier()\n",
        "gbt = GradientBoostingClassifier(n_estimators = 300,max_depth=1,subsample=0.8,max_features=0.2,random_state=103)\n",
        "kc=KNeighborsClassifier()\n",
        "xgb=XGBClassifier()\n",
        "b=BernoulliNB()\n",
        "\n",
        "classifiers = [('SVC', clf), ('LogisticRegression', logreg), ('RandomForest', rf), ('GradientBoosting', gbt), ('KNeighbors', kc), ('XGB', xgb), ('BernoulliNB', b)]\n",
        "\n",
        "ensemble = VotingClassifier(estimators = classifiers)\n",
        "ensemble.fit(X_train, y_train)\n",
        "\n",
        "y_pred = ensemble.predict(X_test)\n",
        "\n",
        "print(\"The test accuracy score of the ensemble is \", accuracy_score(y_test, y_pred))\n"
      ],
      "metadata": {
        "colab": {
          "base_uri": "https://localhost:8080/"
        },
        "id": "_6EaU78xMv87",
        "outputId": "f755a073-d2c1-48ef-d3a4-f9193577cc79"
      },
      "execution_count": null,
      "outputs": [
        {
          "output_type": "stream",
          "name": "stdout",
          "text": [
            "The test accuracy score of the ensemble is  0.9180327868852459\n"
          ]
        }
      ]
    },
    {
      "cell_type": "markdown",
      "source": [
        "# Data Interpretation"
      ],
      "metadata": {
        "id": "0LCQClMzMj1p"
      }
    },
    {
      "cell_type": "markdown",
      "source": [
        "# **Object 1**\n",
        "To better analysis the relationship between heart disease causative factors and heart attacks.\n",
        "\n",
        "There are two types of variables, **Continuous and Discrete**,  we use specific plots to analyze the relationship."
      ],
      "metadata": {
        "id": "iHUi65XGMtoV"
      }
    },
    {
      "cell_type": "markdown",
      "source": [
        "For the continuous variables : sex, exng, caa, cp, fbs, re, slp, thall. \n",
        "\n",
        "We use **KdePlot and Boxplot** to analyze the relationship between heart disease causative factors and heart attacks.\n",
        "\n"
      ],
      "metadata": {
        "id": "3E3SW7fnNHJB"
      }
    },
    {
      "cell_type": "code",
      "source": [
        "# KdePlot example of Age and heart attacks. It represents the data using a \n",
        "# continuous probability density curve, directly shows the distribution of data.\n",
        "\n",
        "fig = plt.figure(figsize=(16,16))\n",
        "gs = fig.add_gridspec(5,2)\n",
        "gs.update(wspace=0.5, hspace=0.5)\n",
        "ax0 = fig.add_subplot(gs[0,0])\n",
        "ax1 = fig.add_subplot(gs[0,1])\n",
        "\n",
        "\n",
        "background_color = \"#FFFFFF\"\n",
        "color_palette = [\"#5833ff\",\"#8000ff\",\"#6aac90\",\"#5833ff\",\"#da8829\"]\n",
        "fig.patch.set_facecolor(background_color) \n",
        "ax0.set_facecolor(background_color) \n",
        "ax1.set_facecolor(background_color) \n",
        "\n",
        "ax0.text(0.5,0.5,\"Distribution of age\\naccording to\\n target variable\\n___________\",\n",
        "        horizontalalignment = 'center',\n",
        "        verticalalignment = 'center',\n",
        "        fontsize = 18,\n",
        "        fontweight='bold',\n",
        "        fontfamily='serif',\n",
        "        color='#000000')\n",
        "ax0.spines[\"bottom\"].set_visible(False)\n",
        "ax0.set_xticklabels([])\n",
        "ax0.set_yticklabels([])\n",
        "ax0.tick_params(left=False, bottom=False)\n",
        "\n",
        "ax1.grid(color='#000000', linestyle=':', axis='y', zorder=0,  dashes=(1,5))\n",
        "sns.kdeplot(ax=ax1, data=df, x='age',hue=\"output\", fill=True,palette=[\"#800000\",\"#9370DB\"], alpha=.5, linewidth=0)\n",
        "ax1.set_xlabel(\"\")\n",
        "ax1.set_ylabel(\"\")"
      ],
      "metadata": {
        "colab": {
          "base_uri": "https://localhost:8080/",
          "height": 189
        },
        "id": "BgaCwnxAP51w",
        "outputId": "84eb4eb4-c5a7-41b4-f228-a71b5eb4d3f1"
      },
      "execution_count": null,
      "outputs": [
        {
          "output_type": "execute_result",
          "data": {
            "text/plain": [
              "Text(0, 0.5, '')"
            ]
          },
          "metadata": {},
          "execution_count": 18
        },
        {
          "output_type": "display_data",
          "data": {
            "text/plain": [
              "<Figure size 1152x1152 with 2 Axes>"
            ],
            "image/png": "[encoded data removed]"
          },
          "metadata": {}
        }
      ]
    },
    {
      "cell_type": "code",
      "source": [
        "# Box plot of Age and attacks. It displays the distribution of data based on a five number summary.\n",
        "# It can tell you about your outliers and what their values are\n",
        "\n",
        "fig = plt.figure(figsize=(18,16))\n",
        "gs = fig.add_gridspec(2,3)\n",
        "gs.update(wspace=0.3, hspace=0.15)\n",
        "ax0 = fig.add_subplot(gs[0,0])\n",
        "ax1 = fig.add_subplot(gs[0,1])\n",
        "\n",
        "background_color = \"#FFFFFF\"\n",
        "color_palette = [\"#800000\",\"#9370DB\",\"#6aac90\",\"#4169E1\",\"#da8829\"]\n",
        "fig.patch.set_facecolor(background_color) \n",
        "ax0.set_facecolor(background_color) \n",
        "ax1.set_facecolor(background_color) \n",
        "\n",
        "# Title of the plot\n",
        "ax0.spines[\"bottom\"].set_visible(False)\n",
        "ax0.spines[\"left\"].set_visible(False)\n",
        "ax0.spines[\"top\"].set_visible(False)\n",
        "ax0.spines[\"right\"].set_visible(False)\n",
        "ax0.tick_params(left=False, bottom=False)\n",
        "ax0.set_xticklabels([])\n",
        "ax0.set_yticklabels([])\n",
        "ax0.text(0.5,0.5,\n",
        "         'Box plot for various\\n continuous features\\n_________________',\n",
        "         horizontalalignment='center',\n",
        "         verticalalignment='center',\n",
        "         fontsize=18, fontweight='bold',\n",
        "         fontfamily='serif',\n",
        "         color=\"#000000\")\n",
        "\n",
        "# Age \n",
        "ax1.text(-0.05, 81, 'Age', fontsize=14, fontweight='bold', fontfamily='serif', color=\"#000000\")\n",
        "ax1.grid(color='#000000', linestyle=':', axis='y', zorder=0,  dashes=(1,5))\n",
        "sns.boxplot(ax=ax1,x='output',y='age',data=df,hue=df['output'],palette=[\"#800000\"],width=0.6)\n",
        "ax1.set_xlabel(\"\")\n",
        "ax1.set_ylabel(\"\")"
      ],
      "metadata": {
        "colab": {
          "base_uri": "https://localhost:8080/",
          "height": 493
        },
        "id": "PqVyQYqjSxUq",
        "outputId": "76fe6404-f652-4009-b955-e8266c3ff562"
      },
      "execution_count": null,
      "outputs": [
        {
          "output_type": "execute_result",
          "data": {
            "text/plain": [
              "Text(0, 0.5, '')"
            ]
          },
          "metadata": {},
          "execution_count": 19
        },
        {
          "output_type": "display_data",
          "data": {
            "text/plain": [
              "<Figure size 1296x1152 with 2 Axes>"
            ],
            "image/png": "[encoded data removed]"
          },
          "metadata": {}
        }
      ]
    },
    {
      "cell_type": "markdown",
      "source": [
        "For the discrete Various : sex, exng, caa, cp, fbs, re, slp, thall.\n",
        "\n",
        "We use **Countplot** to analyze the relationship between heart disease causative factors and heart attacks."
      ],
      "metadata": {
        "id": "SCqOqCE5OlyT"
      }
    },
    {
      "cell_type": "code",
      "source": [
        "# Countplot example of Sex and attacks. \n",
        "# Show the counts of observations in each categorical bin using bars.\n",
        "\n",
        "fig = plt.figure(figsize=(20,15))\n",
        "gs = fig.add_gridspec(3,3)\n",
        "gs.update(wspace=0.5, hspace=0.25)\n",
        "ax0 = fig.add_subplot(gs[0,0])\n",
        "ax1 = fig.add_subplot(gs[0,1])\n",
        "\n",
        "background_color = \"#FFFFFF\"\n",
        "color_palette = [\"#800000\",\"#9370DB\",\"#6aac90\",\"#4169E1\",\"#da8829\"]\n",
        "fig.patch.set_facecolor(background_color) \n",
        "ax0.set_facecolor(background_color) \n",
        "ax1.set_facecolor(background_color) \n",
        "\n",
        "ax0.spines[\"bottom\"].set_visible(False)\n",
        "ax0.spines[\"left\"].set_visible(False)\n",
        "ax0.spines[\"top\"].set_visible(False)\n",
        "ax0.spines[\"right\"].set_visible(False)\n",
        "ax0.spines[\"right\"].set_visible(False)\n",
        "ax0.tick_params(left=False, bottom=False)\n",
        "ax0.set_xticklabels([])\n",
        "ax0.set_yticklabels([])\n",
        "ax0.text(0.5,0.5,\n",
        "         'Count plot for various\\n categorical features\\n_________________',\n",
        "         horizontalalignment='center',\n",
        "         verticalalignment='center',\n",
        "         fontsize=18, fontweight='bold',\n",
        "         fontfamily='serif',\n",
        "         color=\"#000000\")\n",
        "\n",
        "ax1.text(-0.1, 130, 'Sex: 0-Female 1-Male', fontsize=15, fontweight='bold', fontfamily='serif', color=\"#000000\")\n",
        "ax1.grid(color='#000000', linestyle=':', axis='y', zorder=0,  dashes=(1,5))\n",
        "sns.countplot(ax=ax1,data=df,x='sex',hue='output',fill= True,palette=color_palette)\n",
        "ax1.set_xlabel(\"\")\n",
        "ax1.set_ylabel(\"\")"
      ],
      "metadata": {
        "colab": {
          "base_uri": "https://localhost:8080/",
          "height": 329
        },
        "id": "lhGyQjHMP6Ru",
        "outputId": "ee2aa24a-3d58-4204-ea6f-aaff1a3c7aaf"
      },
      "execution_count": null,
      "outputs": [
        {
          "output_type": "execute_result",
          "data": {
            "text/plain": [
              "Text(0, 0.5, '')"
            ]
          },
          "metadata": {},
          "execution_count": 20
        },
        {
          "output_type": "display_data",
          "data": {
            "text/plain": [
              "<Figure size 1440x1080 with 2 Axes>"
            ],
            "image/png": "[encoded data removed]"
          },
          "metadata": {}
        }
      ]
    },
    {
      "cell_type": "markdown",
      "source": [
        "Then we use **heatplot** to analysis the correlation index between heart disease causative factors and heart attacks. "
      ],
      "metadata": {
        "id": "PDN1MywXPXSK"
      }
    },
    {
      "cell_type": "code",
      "source": [
        "fig = plt.figure(figsize=(12,12))\n",
        "corr_mat = df.corr().stack().reset_index(name=\"correlation\")\n",
        "g = sns.relplot(\n",
        "    data=corr_mat,\n",
        "    x=\"level_0\", y=\"level_1\", hue=\"correlation\", size=\"correlation\",\n",
        "    palette=\"Paired_r\", hue_norm=(-1, 1), edgecolor=\".7\",\n",
        "    height=10, sizes=(50, 250), size_norm=(-.2, .8),\n",
        ")\n",
        "g.set(xlabel=\"features on X\", ylabel=\"featurs on Y\", aspect=\"equal\")\n",
        "g.fig.suptitle('Scatterplot heatmap',fontsize=22, fontweight='bold', fontfamily='serif', color=\"#000000\")\n",
        "g.despine(left=True, bottom=True)\n",
        "g.ax.margins(.02)\n",
        "for label in g.ax.get_xticklabels():\n",
        "    label.set_rotation(90)\n",
        "for artist in g.legend.legendHandles:\n",
        "    artist.set_edgecolor(\".7\")\n",
        "plt.show()"
      ],
      "metadata": {
        "id": "xeKMhJKbNF5m"
      },
      "execution_count": null,
      "outputs": []
    },
    {
      "cell_type": "markdown",
      "source": [
        "But it shows that there is no direct relationship between causative factors and heart attacks."
      ],
      "metadata": {
        "id": "B8wm0eq5UijL"
      }
    },
    {
      "cell_type": "markdown",
      "source": [
        "# **Object 2**"
      ],
      "metadata": {
        "id": "8ZD1t6D0Qv7H"
      }
    },
    {
      "cell_type": "markdown",
      "source": [
        "To find a solution to build a highly accurate heart disease prediction model\n",
        "\n",
        "We employ the following models to predict heart disease.\n",
        "\n",
        "Then contrast the accuracy scores of each model. \n",
        "1. SVM\n",
        "2. LogisticRegression\n",
        "3. DecisionTreeClassifier\n",
        "4. RandomForestClassifier\n",
        "5. Gradient Boosting\n",
        "6. KNeighborsClassifier\n",
        "7. XGB\n",
        "8. GaussianNB\n",
        "9. BernoulliNB"
      ],
      "metadata": {
        "id": "dmwSzFa2Q1QG"
      }
    },
    {
      "cell_type": "code",
      "source": [
        "sorted_results = results.sort_values(\"Cross Validation Means\", ascending = False)\n",
        "g = sns.barplot(\"Cross Validation Means\", \"ML Models\", data = sorted_results)\n",
        "g.set_xlabel(\"Mean Accuracy\")\n",
        "g.set_title(\"Cross Validation Scores\")\n",
        "plt.show()"
      ],
      "metadata": {
        "colab": {
          "base_uri": "https://localhost:8080/",
          "height": 299
        },
        "id": "m6I13cDLPLiP",
        "outputId": "53704c29-23e8-4a8d-c956-5acc18fb35da"
      },
      "execution_count": null,
      "outputs": [
        {
          "output_type": "display_data",
          "data": {
            "text/plain": [
              "<Figure size 432x288 with 1 Axes>"
            ],
            "image/png": "[encoded data removed]"
          },
          "metadata": {}
        }
      ]
    },
    {
      "cell_type": "markdown",
      "source": [
        "Finally we find that the **Logistic Regression** model performs best in heart attack prediction."
      ],
      "metadata": {
        "id": "zMrJLOg3U-Nh"
      }
    },
    {
      "cell_type": "markdown",
      "source": [
        "## Web app deploy"
      ],
      "metadata": {
        "id": "Qdoalj8MYbrt"
      }
    },
    {
      "cell_type": "code",
      "source": [
        "import pickle as pkl\n",
        "pkl.dump(model_here,open(\"final_model.p\",\"wb\"))"
      ],
      "metadata": {
        "id": "hC4LcD4lYkkb"
      },
      "execution_count": null,
      "outputs": []
    },
    {
      "cell_type": "code",
      "source": [
        "%%writefile heartattack-predict-app.py\n",
        "import streamlit as st\n",
        "import base64\n",
        "import sklearn\n",
        "import numpy as np\n",
        "import pickle as pkl\n",
        "from sklearn.preprocessing import MinMaxScaler\n",
        "scal=MinMaxScaler()\n",
        "#Load the saved model\n",
        "model=pkl.load(open(\"final_model.p\",\"rb\"))\n",
        "\n",
        "\n",
        "\n",
        "\n",
        "\n",
        "st.set_page_config(page_title=\"Heart Attack Predictor\",page_icon=\"⚕️\",layout=\"centered\",initial_sidebar_state=\"expanded\")\n",
        "\n",
        "\n",
        "\n",
        "def preprocess(age,sex,cp,trestbps,restecg,chol,fbs,thalach,exang,oldpeak,slope,ca,thal ):   \n",
        " \n",
        "    \n",
        "  #  Pre-processing user input   \n",
        "    if sex==\"male\":\n",
        "        sex=1 \n",
        "    else: \n",
        "        sex=0\n",
        "    \n",
        "    \n",
        "    if cp==\"Typical angina\":\n",
        "        cp=0\n",
        "    elif cp==\"Atypical angina\":\n",
        "        cp=1\n",
        "    elif cp==\"Non-anginal pain\":\n",
        "        cp=2\n",
        "    elif cp==\"Asymptomatic\":\n",
        "        cp=2\n",
        "    \n",
        "    if exang==\"Yes\":\n",
        "        exang=1\n",
        "    elif exang==\"No\":\n",
        "        exang=0\n",
        " \n",
        "    if fbs==\"Yes\":\n",
        "        fbs=1\n",
        "    elif fbs==\"No\":\n",
        "        fbs=0\n",
        " \n",
        "    if slope==\"Upsloping: better heart rate with exercise(uncommon)\":\n",
        "        slope=0\n",
        "    elif slope==\"Flatsloping: minimal change(typical healthy heart)\":\n",
        "          slope=1\n",
        "    elif slope==\"Downsloping: signs of unhealthy heart\":\n",
        "        slope=2  \n",
        " \n",
        "    if thal==\"fixed defect: used to be defect but ok now\":\n",
        "        thal=6\n",
        "    elif thal==\"reversable defect: no proper blood movement when excercising\":\n",
        "        thal=7\n",
        "    elif thal==\"normal\":\n",
        "        thal=2.31\n",
        "\n",
        "    if restecg==\"Nothing to note\":\n",
        "        restecg=0\n",
        "    elif restecg==\"ST-T Wave abnormality\":\n",
        "        restecg=1\n",
        "    elif restecg==\"Possible or definite left ventricular hypertrophy\":\n",
        "        restecg=2\n",
        "\n",
        "\n",
        "    user_input=[age,sex,cp,trestbps,restecg,chol,fbs,thalach,exang,oldpeak,slope,ca,thal]\n",
        "    user_input=np.array(user_input)\n",
        "    user_input=user_input.reshape(1,-1)\n",
        "    user_input=scal.fit_transform(user_input)\n",
        "    prediction = model.predict(user_input)\n",
        "\n",
        "    return prediction\n",
        "\n",
        "    \n",
        "\n",
        "       \n",
        "    # front end elements of the web page \n",
        "html_temp = \"\"\" \n",
        "    <div style =\"background-color:pink;padding:13px\"> \n",
        "    <h1 style =\"color:black;text-align:center;\">Heart Attack Predictor App</h1> \n",
        "    </div> \n",
        "    \"\"\"\n",
        "      \n",
        "# display the front end aspect\n",
        "st.markdown(html_temp, unsafe_allow_html = True) \n",
        "st.subheader('by Data Alliance ')\n",
        "      \n",
        "# following lines create boxes in which user can enter data required to make prediction\n",
        "age=st.selectbox (\"Age\",range(1,121,1))\n",
        "sex = st.radio(\"Select Gender: \", ('male', 'female'))\n",
        "cp = st.selectbox('Chest Pain Type',(\"Typical angina\",\"Atypical angina\",\"Non-anginal pain\",\"Asymptomatic\")) \n",
        "trestbps=st.selectbox('Resting Blood Sugar',range(1,500,1))\n",
        "restecg=st.selectbox('Resting Electrocardiographic Results',(\"Nothing to note\",\"ST-T Wave abnormality\",\"Possible or definite left ventricular hypertrophy\"))\n",
        "chol=st.selectbox('Serum Cholestoral in mg/dl',range(1,1000,1))\n",
        "fbs=st.radio(\"Fasting Blood Sugar higher than 120 mg/dl\", ['Yes','No'])\n",
        "thalach=st.selectbox('Maximum Heart Rate Achieved',range(1,300,1))\n",
        "exang=st.selectbox('Exercise Induced Angina',[\"Yes\",\"No\"])\n",
        "oldpeak=st.number_input('Oldpeak')\n",
        "slope = st.selectbox('Heart Rate Slope',(\"Upsloping: better heart rate with excercise(uncommon)\",\"Flatsloping: minimal change(typical healthy heart)\",\"Downsloping: signs of unhealthy heart\"))\n",
        "ca=st.selectbox('Number of Major Vessels Colored by Flourosopy',range(0,5,1))\n",
        "thal=st.selectbox('Thalium Stress Result',range(1,8,1))\n",
        "\n",
        "\n",
        "\n",
        "#user_input=preprocess(sex,cp,exang, fbs, slope, thal )\n",
        "pred=preprocess(age,sex,cp,trestbps,restecg,chol,fbs,thalach,exang,oldpeak,slope,ca,thal)\n",
        "\n",
        "\n",
        "\n",
        "\n",
        "if st.button(\"Predict\"):    \n",
        "  if pred[0] == 0:\n",
        "    st.error('Warning! You have high risk of getting a heart attack!')\n",
        "    \n",
        "  else:\n",
        "    st.success('You have low risk of getting a heart attack!')\n",
        "    \n",
        "   \n",
        "\n",
        "\n",
        "\n",
        "st.sidebar.subheader(\"About App\")\n",
        "\n",
        "st.sidebar.info(\"This web app is helps you to find out whether you are at a risk of getting a heart attack.\")\n",
        "st.sidebar.info(\"Enter the required fields and click on the 'Predict' button to check whether you have a healthy heart\")\n",
        "st.sidebar.info(\"Don't forget to rate this app\")\n",
        "\n",
        "\n",
        "\n",
        "feedback = st.sidebar.slider('How much would you rate this app?',min_value=0,max_value=5,step=1)\n",
        "\n",
        "if feedback:\n",
        "  st.header(\"Thank you for rating the app!\")\n",
        "  st.info(\"Caution: This is just a prediction and not doctoral advice. Kindly see a doctor if you feel the symptoms persist.\") "
      ],
      "metadata": {
        "id": "MJeZAefbYsmT"
      },
      "execution_count": null,
      "outputs": []
    },
    {
      "cell_type": "code",
      "source": [
        "!nohup streamlit run healthy-heart-app.py --server.port 8765 &\n",
        "url = ngrok.connect(port='8765')\n",
        "url"
      ],
      "metadata": {
        "id": "vIxDy5DbZJ_d"
      },
      "execution_count": null,
      "outputs": []
    },
    {
      "cell_type": "markdown",
      "source": [
        "# **Conclusion**"
      ],
      "metadata": {
        "id": "aOHA8IoOTaWn"
      }
    },
    {
      "cell_type": "markdown",
      "source": [
        "Heart disease causes a significant mortality rate around the world, and it has become a health threat for many people.\n",
        "\n",
        "We are committed to building a heart disease prediction platform to help heart disease stakeholders gain a deeper understanding of the causative factors of heart disease and to predict possible heart attacks in conjunction with their own factors.\n",
        "\n",
        "Our heart attack prediction system accomplish two objective. \n",
        "We discovered the relationship between heart disease causative factors and heart attacks. Found that there is no tensity relationship between factors and attacks. Thus, we deducted that several factors contribute to a heart attack.\n",
        "\n",
        "Then we took several causative factors into account, employed 9 models to find a solution to build a highly accurate heart disease prediction model. We eventually found that logistic regression achieved the best prediction performance.\n",
        "\n",
        "Heart attack prediction model is suitable for all types of medical institutions to assist doctors in predicting heart disease and helping patients to better manage their heart disease. It can help doctors to better monitor their conditions and save patients' lives through prognosis, further improving the doctor-patient relationship and promoting the development of medical and healthcare in society.\n",
        "\n"
      ],
      "metadata": {
        "id": "uDfB7oENTc9C"
      }
    }
  ]
}